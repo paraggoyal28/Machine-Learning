{
 "cells": [
  {
   "cell_type": "code",
   "execution_count": 3,
   "metadata": {},
   "outputs": [],
   "source": [
    "import tensorflow as tf\n",
    "import numpy as np"
   ]
  },
  {
   "cell_type": "code",
   "execution_count": 4,
   "metadata": {},
   "outputs": [],
   "source": [
    "x_data = np.random.rand(100).astype(np.float32)\n",
    "y_data = x_data*0.1 + 0.3"
   ]
  },
  {
   "cell_type": "code",
   "execution_count": 5,
   "metadata": {},
   "outputs": [],
   "source": [
    "weight = tf.Variable(tf.random_uniform([1], -1.0 , 1.0))\n",
    "biases = tf.Variable(tf.zeros([1]))"
   ]
  },
  {
   "cell_type": "code",
   "execution_count": 6,
   "metadata": {},
   "outputs": [],
   "source": [
    "y = x_data*weight + biases"
   ]
  },
  {
   "cell_type": "code",
   "execution_count": 7,
   "metadata": {},
   "outputs": [],
   "source": [
    "loss = tf.reduce_mean(tf.square(y-y_data))\n",
    "optimizer = tf.train.GradientDescentOptimizer(0.5).minimize(loss)"
   ]
  },
  {
   "cell_type": "code",
   "execution_count": 8,
   "metadata": {},
   "outputs": [],
   "source": [
    "## Method 1\n",
    "# session = tf.Session()\n",
    "# session.run(tf.global_variables_initializer())\n",
    "\n",
    "# for i in range(201):\n",
    "#     session.run(optimizer)\n",
    "#     if i%20==0:\n",
    "#         print(i, session.run(weight), session.run(biases))"
   ]
  },
  {
   "cell_type": "code",
   "execution_count": 56,
   "metadata": {},
   "outputs": [
    {
     "name": "stdout",
     "output_type": "stream",
     "text": [
      "0 [0.4665516] [0.14192738]\n",
      "200 [0.10000092] [0.29999954]\n",
      "400 [0.1000001] [0.29999995]\n",
      "600 [0.1000001] [0.29999995]\n",
      "800 [0.1000001] [0.29999995]\n",
      "1000 [0.1000001] [0.29999995]\n",
      "1200 [0.1000001] [0.29999995]\n",
      "1400 [0.1000001] [0.29999995]\n",
      "1600 [0.1000001] [0.29999995]\n",
      "1800 [0.1000001] [0.29999995]\n",
      "2000 [0.1000001] [0.29999995]\n"
     ]
    }
   ],
   "source": [
    "## Method 2\n",
    "\n",
    "with tf.Session() as session:\n",
    "    session.run(tf.global_variables_initializer())\n",
    "    for i in range(2001):\n",
    "        session.run(optimizer)\n",
    "        if i%200==0:\n",
    "            print(i, session.run(weight), session.run(biases))"
   ]
  },
  {
   "cell_type": "code",
   "execution_count": 63,
   "metadata": {},
   "outputs": [
    {
     "name": "stdout",
     "output_type": "stream",
     "text": [
      "=> 1 <tf.Variable 'pras_6:0' shape=() dtype=int32_ref>\n",
      "=> 2 <tf.Variable 'pras_6:0' shape=() dtype=int32_ref>\n",
      "=> 3 <tf.Variable 'pras_6:0' shape=() dtype=int32_ref>\n"
     ]
    }
   ],
   "source": [
    "# Adding values\n",
    "\n",
    "state  = tf.Variable(0, name=\"pras\")\n",
    "one = tf.constant(1)\n",
    "newValue = tf.add(state, one)\n",
    "updated = tf.assign(state, newValue)\n",
    "with tf.Session() as session:\n",
    "    session.run(tf.global_variables_initializer())\n",
    "    for i in range(3):\n",
    "        session.run(updated)\n",
    "        print(\"=>\",session.run(state), state)"
   ]
  },
  {
   "cell_type": "code",
   "execution_count": 67,
   "metadata": {},
   "outputs": [
    {
     "name": "stdout",
     "output_type": "stream",
     "text": [
      "[14.]\n"
     ]
    }
   ],
   "source": [
    "input1 = tf.placeholder(tf.float32)\n",
    "input2 = tf.placeholder(tf.float32)\n",
    "output = tf.multiply(input1, input2)\n",
    "\n",
    "with tf.Session()as session:\n",
    "    print(session.run(output, feed_dict={input1:[7.0], input2:[2.0]}))"
   ]
  },
  {
   "cell_type": "code",
   "execution_count": null,
   "metadata": {},
   "outputs": [],
   "source": []
  }
 ],
 "metadata": {
  "kernelspec": {
   "display_name": "Python 3",
   "language": "python",
   "name": "python3"
  },
  "language_info": {
   "codemirror_mode": {
    "name": "ipython",
    "version": 3
   },
   "file_extension": ".py",
   "mimetype": "text/x-python",
   "name": "python",
   "nbconvert_exporter": "python",
   "pygments_lexer": "ipython3",
   "version": "3.6.5"
  }
 },
 "nbformat": 4,
 "nbformat_minor": 2
}
