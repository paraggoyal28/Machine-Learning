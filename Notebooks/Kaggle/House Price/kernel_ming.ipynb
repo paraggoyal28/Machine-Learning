{
 "cells": [
  {
   "cell_type": "code",
   "execution_count": null,
   "metadata": {
    "_cell_guid": "79c7e3d0-c299-4dcb-8224-4455121ee9b0",
    "_uuid": "d629ff2d2480ee46fbb7e2d37f6b5fab8052498a",
    "collapsed": true
   },
   "outputs": [],
   "source": [
    "import pandas as pd\n",
    "import matplotlib.pyplot as plt\n",
    "%matplotlib inline\n",
    "plt.style.use('seaborn')\n",
    "from scipy.stats import norm, skew\n",
    "import numpy as np\n",
    "import seaborn as sns"
   ]
  },
  {
   "cell_type": "code",
   "execution_count": null,
   "metadata": {
    "_uuid": "a8a7d52d3ffe663fdea093f5c8c617f2a8c7defc",
    "collapsed": true
   },
   "outputs": [],
   "source": [
    "#Data reading\n",
    "\n",
    "train = pd.read_csv(\"../input/train.csv\")\n",
    "test = pd.read_csv(\"../input/test.csv\")"
   ]
  },
  {
   "cell_type": "code",
   "execution_count": null,
   "metadata": {
    "_uuid": "3923b3635cef32d84f2e2302c765485133eeeb1a",
    "collapsed": true
   },
   "outputs": [],
   "source": [
    "print(\"Train set size:\", train.shape)\n",
    "print(\"Test set size:\", test.shape)"
   ]
  },
  {
   "cell_type": "code",
   "execution_count": null,
   "metadata": {
    "_uuid": "f78b3cd80e27b9c6728167efaa898eed46aef576",
    "collapsed": true
   },
   "outputs": [],
   "source": [
    "plt.scatter(train.GrLivArea, train.SalePrice)"
   ]
  },
  {
   "cell_type": "code",
   "execution_count": null,
   "metadata": {
    "_uuid": "bc24fc70a2ecca2d1a002e6e2f198a6d433d5fcf",
    "collapsed": true
   },
   "outputs": [],
   "source": [
    "train = train[train.GrLivArea < 4500]\n",
    "plt.scatter(train.GrLivArea, train.SalePrice)"
   ]
  },
  {
   "cell_type": "code",
   "execution_count": null,
   "metadata": {
    "_uuid": "1d1f918f0d3a47417a78ef4d9860a932ad0c77c8",
    "collapsed": true
   },
   "outputs": [],
   "source": [
    "train.drop(['Id'], axis=1, inplace=True)\n",
    "test.drop(['Id'], axis=1, inplace=True)"
   ]
  },
  {
   "cell_type": "code",
   "execution_count": null,
   "metadata": {
    "_uuid": "cfd7d462f3c994b8ddefb929fd2bbd0f68dfcb66",
    "collapsed": true
   },
   "outputs": [],
   "source": [
    "print(\"Train set size:\", train.shape)\n",
    "print(\"Test set size:\", test.shape)"
   ]
  },
  {
   "cell_type": "code",
   "execution_count": null,
   "metadata": {
    "_uuid": "1e457bec9b6b31fab4a0e8ad8108f3e512c14c75",
    "collapsed": true
   },
   "outputs": [],
   "source": [
    "df = pd.concat([train.SalePrice, np.log(train.SalePrice + 1).rename('LogSalePrice')], axis=1, names=['SalePrice', 'LogSalePrice'])\n",
    "df.head()"
   ]
  },
  {
   "cell_type": "code",
   "execution_count": null,
   "metadata": {
    "_uuid": "b29f4473cb8e2c217671e3ae9dd9c341ef8b30b2",
    "collapsed": true
   },
   "outputs": [],
   "source": [
    "plt.subplot(1, 2, 1)\n",
    "sns.distplot(train.SalePrice, kde=False, fit = norm)\n",
    "\n",
    "plt.subplot(1, 2, 2)\n",
    "sns.distplot(np.log(train.SalePrice + 1), kde=False, fit = norm)\n",
    "plt.xlabel('Log SalePrice')"
   ]
  },
  {
   "cell_type": "code",
   "execution_count": null,
   "metadata": {
    "_uuid": "9315c3befcca137d32e6970a8623c8625acd413a",
    "collapsed": true
   },
   "outputs": [],
   "source": [
    "train.SalePrice = np.log1p(train.SalePrice)"
   ]
  },
  {
   "cell_type": "code",
   "execution_count": null,
   "metadata": {
    "_uuid": "7cc052fff07898993f525e996b248af1cdfa3753",
    "collapsed": true
   },
   "outputs": [],
   "source": [
    "y = train.SalePrice.reset_index(drop=True)\n",
    "train_features = train.drop(['SalePrice'], axis=1)\n",
    "test_features = test"
   ]
  },
  {
   "cell_type": "code",
   "execution_count": null,
   "metadata": {
    "_uuid": "a4f228262bc91b3ddb23bd147321efed5575fcfe",
    "collapsed": true
   },
   "outputs": [],
   "source": [
    "features = pd.concat([train_features, test_features]).reset_index(drop=True)\n",
    "features.shape"
   ]
  },
  {
   "cell_type": "code",
   "execution_count": null,
   "metadata": {
    "_uuid": "445d2aa854175e44caaf3d1b219b0e28ee9e903b",
    "collapsed": true
   },
   "outputs": [],
   "source": [
    "nulls = np.sum(features.isnull())\n",
    "nullcols = nulls.loc[(nulls != 0)]\n",
    "dtypes = features.dtypes\n",
    "dtypes2 = dtypes.loc[(nulls != 0)]\n",
    "info = pd.concat([nullcols, dtypes2], axis=1).sort_values(by=0, ascending=False)\n",
    "print(info)\n",
    "print(\"There are\", len(nullcols), \"columns with missing values\")"
   ]
  },
  {
   "cell_type": "code",
   "execution_count": null,
   "metadata": {
    "_uuid": "71a45e277ffb7c09305ac87f5c662d692a64db25",
    "collapsed": true
   },
   "outputs": [],
   "source": [
    "features['Functional'] = features['Functional'].fillna('Typ')\n",
    "features['Electrical'] = features['Electrical'].fillna(\"SBrkr\")\n",
    "features['KitchenQual'] = features['KitchenQual'].fillna(\"TA\")\n",
    "\n",
    "features['Exterior1st'] = features['Exterior1st'].fillna(features['Exterior1st'].mode()[0])\n",
    "features['Exterior2nd'] = features['Exterior2nd'].fillna(features['Exterior2nd'].mode()[0])\n",
    "\n",
    "features['SaleType'] = features['SaleType'].fillna(features['SaleType'].mode()[0])"
   ]
  },
  {
   "cell_type": "code",
   "execution_count": null,
   "metadata": {
    "_uuid": "7cceed5a895a5f1837a7e86e0caa2264a77fd9d9",
    "collapsed": true
   },
   "outputs": [],
   "source": [
    "pd.set_option('max_columns', None)\n",
    "features[features['PoolArea'] > 0 & features['PoolQC'].isnull()]"
   ]
  },
  {
   "cell_type": "code",
   "execution_count": null,
   "metadata": {
    "_uuid": "e36d86444aec955350e360bd7d196562cb6dae9f",
    "collapsed": true
   },
   "outputs": [],
   "source": [
    "features.loc[2418, 'PoolQC'] = 'Fa'\n",
    "features.loc[2501, 'PoolQC'] = 'Gd'\n",
    "features.loc[2597, 'PoolQC'] = 'Fa'"
   ]
  },
  {
   "cell_type": "code",
   "execution_count": null,
   "metadata": {
    "_uuid": "6bc8a661d56d30ec2b99303d2d91393a1a5104f3",
    "collapsed": true
   },
   "outputs": [],
   "source": [
    "pd.set_option('max_columns', None)\n",
    "features[(features['GarageType'] == 'Detchd') & features['GarageYrBlt'].isnull()]"
   ]
  },
  {
   "cell_type": "code",
   "execution_count": null,
   "metadata": {
    "_uuid": "d9bebf9a237b6ec15388a258a7e6a19f5daee5de",
    "collapsed": true
   },
   "outputs": [],
   "source": [
    "features.loc[2124, 'GarageYrBlt'] = features['GarageYrBlt'].median()\n",
    "features.loc[2574, 'GarageYrBlt'] = features['GarageYrBlt'].median()\n",
    "\n",
    "features.loc[2124, 'GarageFinish'] = features['GarageFinish'].mode()[0]\n",
    "features.loc[2574, 'GarageFinish'] = features['GarageFinish'].mode()[0]\n",
    "\n",
    "features.loc[2574, 'GarageCars'] = features['GarageCars'].median()\n",
    "\n",
    "features.loc[2124, 'GarageArea'] = features['GarageArea'].median()\n",
    "features.loc[2574, 'GarageArea'] = features['GarageArea'].median()\n",
    "\n",
    "features.loc[2124, 'GarageQual'] = features['GarageQual'].mode()[0]\n",
    "features.loc[2574, 'GarageQual'] = features['GarageQual'].mode()[0]\n",
    "\n",
    "features.loc[2124, 'GarageCond'] = features['GarageCond'].mode()[0]\n",
    "features.loc[2574, 'GarageCond'] = features['GarageCond'].mode()[0]"
   ]
  },
  {
   "cell_type": "code",
   "execution_count": null,
   "metadata": {
    "_uuid": "2bea38c3f821e0b378e09225b43caf3b37b699e9",
    "collapsed": true
   },
   "outputs": [],
   "source": [
    "basement_columns = ['BsmtQual', 'BsmtCond', 'BsmtExposure', 'BsmtFinType1',\n",
    "                   'BsmtFinType2', 'BsmtFinSF1', 'BsmtFinSF2', 'BsmtUnfSF',\n",
    "                   'TotalBsmtSF']\n",
    "\n",
    "tempdf = features[basement_columns]\n",
    "tempdfnulls = tempdf[tempdf.isnull().any(axis=1)]"
   ]
  },
  {
   "cell_type": "code",
   "execution_count": null,
   "metadata": {
    "_uuid": "992819bca0012032953daa54bc078f08566524fa",
    "collapsed": true
   },
   "outputs": [],
   "source": [
    "#now select just the rows that have less then 5 NA's, \n",
    "# meaning there is incongruency in the row.\n",
    "tempdfnulls[(tempdfnulls.isnull()).sum(axis=1) < 5]"
   ]
  },
  {
   "cell_type": "code",
   "execution_count": null,
   "metadata": {
    "_uuid": "30b58facf59a721f82cb6fab20967fb7ff91fc99",
    "collapsed": true
   },
   "outputs": [],
   "source": [
    "features.loc[332, 'BsmtFinType2'] = 'ALQ' #since smaller than SF1\n",
    "features.loc[947, 'BsmtExposure'] = 'No' \n",
    "features.loc[1485, 'BsmtExposure'] = 'No'\n",
    "features.loc[2038, 'BsmtCond'] = 'TA'\n",
    "features.loc[2183, 'BsmtCond'] = 'TA'\n",
    "features.loc[2215, 'BsmtQual'] = 'Po' #v small basement so let's do Poor.\n",
    "features.loc[2216, 'BsmtQual'] = 'Fa' #similar but a bit bigger.\n",
    "features.loc[2346, 'BsmtExposure'] = 'No' #unfinished bsmt so prob not.\n",
    "features.loc[2522, 'BsmtCond'] = 'Gd' #cause ALQ for bsmtfintype1"
   ]
  },
  {
   "cell_type": "code",
   "execution_count": null,
   "metadata": {
    "_uuid": "53944aad3b237bdf8a946133d7065aa42b222e0b",
    "collapsed": true
   },
   "outputs": [],
   "source": [
    "subclass_group = features.groupby('MSSubClass')\n",
    "Zoning_modes = subclass_group['MSZoning'].apply(lambda x : x.mode()[0])\n",
    "Zoning_modes"
   ]
  },
  {
   "cell_type": "code",
   "execution_count": null,
   "metadata": {
    "_uuid": "9d1479bbb5569459545920f28c2dd1d158b538d0",
    "collapsed": true
   },
   "outputs": [],
   "source": [
    "features['MSZoning'] = features.groupby('MSSubClass')['MSZoning'].transform(lambda x: x.fillna(x.mode()[0]))"
   ]
  },
  {
   "cell_type": "code",
   "execution_count": null,
   "metadata": {
    "_uuid": "38b99b2455517a34c33159dd3300627c680dbb30",
    "collapsed": true
   },
   "outputs": [],
   "source": [
    "objects = []\n",
    "for i in features.columns:\n",
    "    if features[i].dtype == object:\n",
    "        objects.append(i)\n",
    "\n",
    "features.update(features[objects].fillna('None'))\n",
    "\n",
    "nulls = np.sum(features.isnull())\n",
    "nullcols = nulls.loc[(nulls != 0)]\n",
    "dtypes = features.dtypes\n",
    "dtypes2 = dtypes.loc[(nulls != 0)]\n",
    "info = pd.concat([nullcols, dtypes2], axis=1).sort_values(by=0, ascending=False)\n",
    "print(info)\n",
    "print(\"There are\", len(nullcols), \"columns with missing values\")"
   ]
  },
  {
   "cell_type": "code",
   "execution_count": null,
   "metadata": {
    "_uuid": "5f002788a24b9f9eb67e2006a9e58c2790327809",
    "collapsed": true
   },
   "outputs": [],
   "source": [
    "neighborhood_group = features.groupby('Neighborhood')\n",
    "lot_medians = neighborhood_group['LotFrontage'].median()\n",
    "lot_medians"
   ]
  },
  {
   "cell_type": "code",
   "execution_count": null,
   "metadata": {
    "_uuid": "9f77c7cda58adf902a77480b1c7dac875ec251b7",
    "collapsed": true
   },
   "outputs": [],
   "source": [
    "features['LotFrontage'] = features.groupby('Neighborhood')['LotFrontage'].transform(lambda x: x.fillna(x.median()))"
   ]
  },
  {
   "cell_type": "code",
   "execution_count": null,
   "metadata": {
    "_uuid": "30e82e76f5bb76776fd7236d6339751a4c4a5871",
    "collapsed": true
   },
   "outputs": [],
   "source": [
    "pd.set_option('max_columns', None)\n",
    "features[(features['GarageYrBlt'].isnull()) & features['GarageArea'] > 0]"
   ]
  },
  {
   "cell_type": "code",
   "execution_count": null,
   "metadata": {
    "_uuid": "61c274b946dcc9e8f430c4730a0c5b2d67ddc27b",
    "collapsed": true
   },
   "outputs": [],
   "source": [
    "pd.set_option('max_columns', None)\n",
    "features[(features['MasVnrArea'].isnull())]\n"
   ]
  },
  {
   "cell_type": "code",
   "execution_count": null,
   "metadata": {
    "_uuid": "32d64979e91f33b98e3c86064ec0ffb4f3f3aa79",
    "collapsed": true
   },
   "outputs": [],
   "source": [
    "#Filling in the rest of the NA's\n",
    "\n",
    "numeric_dtypes = ['int16', 'int32', 'int64', 'float16', 'float32', 'float64']\n",
    "numerics = []\n",
    "for i in features.columns:\n",
    "    if features[i].dtype in numeric_dtypes: \n",
    "        numerics.append(i)\n",
    "        \n",
    "features.update(features[numerics].fillna(0))\n",
    "\n",
    "nulls = np.sum(features.isnull())\n",
    "nullcols = nulls.loc[(nulls != 0)]\n",
    "dtypes = features.dtypes\n",
    "dtypes2 = dtypes.loc[(nulls != 0)]\n",
    "info = pd.concat([nullcols, dtypes2], axis=1).sort_values(by=0, ascending=False)\n",
    "print(info)\n",
    "print(\"There are\", len(nullcols), \"columns with missing values\")"
   ]
  },
  {
   "cell_type": "code",
   "execution_count": null,
   "metadata": {
    "_uuid": "809dc17536fca75297c230a209ca5da7129af782",
    "collapsed": true
   },
   "outputs": [],
   "source": [
    "features.describe()"
   ]
  },
  {
   "cell_type": "code",
   "execution_count": null,
   "metadata": {
    "_uuid": "558207433757bd6c3c6a72fcf1d848c89992ba14",
    "collapsed": true
   },
   "outputs": [],
   "source": [
    "features[features['GarageYrBlt'] == 2207]"
   ]
  },
  {
   "cell_type": "code",
   "execution_count": null,
   "metadata": {
    "_uuid": "696fe31ab10261cd7a45cd0174ad31b59c1a3a3a",
    "collapsed": true
   },
   "outputs": [],
   "source": [
    "features.loc[2590, 'GarageYrBlt'] = 2007"
   ]
  },
  {
   "cell_type": "code",
   "execution_count": null,
   "metadata": {
    "_uuid": "9fed8a7cc56485f6323ac42d36b770b1034b0910",
    "collapsed": true
   },
   "outputs": [],
   "source": [
    "#factors = ['MSSubClass', 'MoSold']\n",
    "factors = ['MSSubClass']\n",
    " \n",
    "\n",
    "\n",
    "for i in factors:\n",
    "    features.update(features[i].astype('str'))"
   ]
  },
  {
   "cell_type": "code",
   "execution_count": null,
   "metadata": {
    "_uuid": "db4197223b1a9e0dfc3d9293e86c2dc6f533fffe",
    "collapsed": true
   },
   "outputs": [],
   "source": [
    "from scipy.stats import skew\n",
    "\n",
    "numeric_dtypes = ['int16', 'int32', 'int64', 'float16', 'float32', 'float64']\n",
    "numerics2 = []\n",
    "for i in features.columns:\n",
    "    if features[i].dtype in numeric_dtypes: \n",
    "        numerics2.append(i)\n",
    "\n",
    "skew_features = features[numerics2].apply(lambda x: skew(x)).sort_values(ascending=False)\n",
    "skews = pd.DataFrame({'skew':skew_features})\n",
    "skews"
   ]
  },
  {
   "cell_type": "code",
   "execution_count": null,
   "metadata": {
    "_uuid": "094d1e0c27038e6914d3a22c7bf4719bd8c3128b",
    "collapsed": true
   },
   "outputs": [],
   "source": [
    "from scipy.special import boxcox1p\n",
    "from scipy.stats import boxcox_normmax\n",
    "\n",
    "high_skew = skew_features[skew_features > 0.5]\n",
    "high_skew = high_skew\n",
    "skew_index = high_skew.index\n",
    "\n",
    "for i in skew_index:\n",
    "    features[i]= boxcox1p(features[i], boxcox_normmax(features[i]+1))\n",
    "\n",
    "        \n",
    "skew_features2 = features[numerics2].apply(lambda x: skew(x)).sort_values(ascending=False)\n",
    "skews2 = pd.DataFrame({'skew':skew_features2})\n",
    "skews2"
   ]
  },
  {
   "cell_type": "code",
   "execution_count": null,
   "metadata": {
    "_uuid": "b6571b7225c86727f439b1e5c1df1d6fa361c7dc",
    "collapsed": true
   },
   "outputs": [],
   "source": [
    "objects3 = []\n",
    "for i in features.columns:\n",
    "    if features[i].dtype == object:\n",
    "        objects3.append(i)"
   ]
  },
  {
   "cell_type": "code",
   "execution_count": null,
   "metadata": {
    "_uuid": "606c5c8d9a49df03770869b31fcc954dc7b0bc44",
    "collapsed": true
   },
   "outputs": [],
   "source": [
    "print(\"Training Set incomplete cases\")\n",
    "\n",
    "sums_features = features[objects3].apply(lambda x: len(np.unique(x)))\n",
    "sums_features.sort_values(ascending=False)"
   ]
  },
  {
   "cell_type": "code",
   "execution_count": null,
   "metadata": {
    "_uuid": "b8abf40588f9d6cace59059b8216c66cd31b8592",
    "collapsed": true
   },
   "outputs": [],
   "source": [
    "print(features['Street'].value_counts())\n",
    "print('-----')\n",
    "print(features['Utilities'].value_counts())\n",
    "print('-----')\n",
    "print(features['CentralAir'].value_counts())\n",
    "print('-----')\n",
    "print(features['PavedDrive'].value_counts())"
   ]
  },
  {
   "cell_type": "code",
   "execution_count": null,
   "metadata": {
    "_uuid": "46524ffc45bbf61f7d4770a02ea472444fea0e23",
    "collapsed": true
   },
   "outputs": [],
   "source": [
    "#features = features.drop(['Utilities'], axis=1)\n",
    "features = features.drop(['Utilities', 'Street'], axis=1)"
   ]
  },
  {
   "cell_type": "code",
   "execution_count": null,
   "metadata": {
    "_uuid": "7cb196b06526f3dd2b135c2a1b35b805a9b553a3",
    "collapsed": true
   },
   "outputs": [],
   "source": [
    "features['Total_sqr_footage'] = (features['BsmtFinSF1'] + features['BsmtFinSF2'] +\n",
    "                                 features['1stFlrSF'] + features['2ndFlrSF'])\n",
    "\n",
    "features['Total_Bathrooms'] = (features['FullBath'] + (0.5*features['HalfBath']) + \n",
    "                               features['BsmtFullBath'] + (0.5*features['BsmtHalfBath']))\n",
    "\n",
    "features['Total_porch_sf'] = (features['OpenPorchSF'] + features['3SsnPorch'] +\n",
    "                              features['EnclosedPorch'] + features['ScreenPorch'] +\n",
    "                             features['WoodDeckSF'])\n",
    "\n",
    "\n",
    "#simplified features\n",
    "features['haspool'] = features['PoolArea'].apply(lambda x: 1 if x > 0 else 0)\n",
    "features['has2ndfloor'] = features['2ndFlrSF'].apply(lambda x: 1 if x > 0 else 0)\n",
    "features['hasgarage'] = features['GarageArea'].apply(lambda x: 1 if x > 0 else 0)\n",
    "features['hasbsmt'] = features['TotalBsmtSF'].apply(lambda x: 1 if x > 0 else 0)\n",
    "features['hasfireplace'] = features['Fireplaces'].apply(lambda x: 1 if x > 0 else 0)"
   ]
  },
  {
   "cell_type": "code",
   "execution_count": null,
   "metadata": {
    "_uuid": "f36b7e9fc02a0ddb68729c12ad764f6cd6d60751",
    "collapsed": true
   },
   "outputs": [],
   "source": [
    "features.shape"
   ]
  },
  {
   "cell_type": "code",
   "execution_count": null,
   "metadata": {
    "_uuid": "72cc6888b5979c9ff3ac23b5072447a5a358c11b",
    "collapsed": true
   },
   "outputs": [],
   "source": [
    "final_features = pd.get_dummies(features).reset_index(drop=True)\n",
    "final_features.shape"
   ]
  },
  {
   "cell_type": "code",
   "execution_count": null,
   "metadata": {
    "_uuid": "508a277c9d9b653f4b87423739de51a0b7487fcf",
    "collapsed": true
   },
   "outputs": [],
   "source": [
    "y.shape"
   ]
  },
  {
   "cell_type": "code",
   "execution_count": null,
   "metadata": {
    "_uuid": "de85167264320516c1d6abfbfec35202989c7d68",
    "collapsed": true
   },
   "outputs": [],
   "source": [
    "X = final_features.iloc[:len(y),:]\n",
    "testing_features = final_features.iloc[len(X):,:]\n",
    "\n",
    "print(X.shape)\n",
    "print(testing_features.shape)"
   ]
  },
  {
   "cell_type": "code",
   "execution_count": null,
   "metadata": {
    "_uuid": "5cc78e09b00eb85e69d8978ce466f4892bb77d70",
    "collapsed": true
   },
   "outputs": [],
   "source": [
    "# import statsmodels.api as sm\n",
    "# ols = sm.OLS(endog = y, exog = X)\n",
    "# fit = ols.fit()\n",
    "# test2 = fit.outlier_test()['bonf(p)']"
   ]
  },
  {
   "cell_type": "code",
   "execution_count": null,
   "metadata": {
    "_uuid": "76db01bd7843b00b57b774931f52d3591e8b14da",
    "collapsed": true
   },
   "outputs": [],
   "source": [
    "outliers = list(test2[test2<1e-3].index)\n",
    "outliers"
   ]
  },
  {
   "cell_type": "code",
   "execution_count": null,
   "metadata": {
    "_uuid": "6056b45a0c1ffe494c8da1a1f63c995fae116957",
    "collapsed": true
   },
   "outputs": [],
   "source": [
    "outliers = [30, 88, 462, 631, 1322]"
   ]
  },
  {
   "cell_type": "code",
   "execution_count": null,
   "metadata": {
    "_uuid": "eb6d8d1f7c94deb18c831709d77a68bfb597356c",
    "collapsed": true
   },
   "outputs": [],
   "source": [
    "X = X.drop(X.index[outliers])\n",
    "y = y.drop(y.index[outliers])"
   ]
  },
  {
   "cell_type": "code",
   "execution_count": null,
   "metadata": {
    "_uuid": "58fdbc067a55e103ba646312005ac17df81684a3",
    "collapsed": true
   },
   "outputs": [],
   "source": [
    "overfit = []\n",
    "for i in X.columns:\n",
    "    counts = X[i].value_counts()\n",
    "    zeros = counts.iloc[0]\n",
    "    if zeros / len(X) * 100 >99.94:\n",
    "        overfit.append(i)"
   ]
  },
  {
   "cell_type": "code",
   "execution_count": null,
   "metadata": {
    "_uuid": "10665d78bc32c88a43aba091fcece10aae5a2213",
    "collapsed": true
   },
   "outputs": [],
   "source": [
    "overfit = list(overfit)\n",
    "overfit"
   ]
  },
  {
   "cell_type": "code",
   "execution_count": null,
   "metadata": {
    "_uuid": "f1bb0b2c73ec6cd039526d7b253f4e3aa8092d4f",
    "collapsed": true
   },
   "outputs": [],
   "source": [
    "overfit.append('MSZoning_C (all)')"
   ]
  },
  {
   "cell_type": "code",
   "execution_count": null,
   "metadata": {
    "_uuid": "a28f5872ded894353e0cb2798fdc3762eeb07e77",
    "collapsed": true
   },
   "outputs": [],
   "source": [
    "overfit"
   ]
  },
  {
   "cell_type": "code",
   "execution_count": null,
   "metadata": {
    "_uuid": "e88e99977f930d1c82b6c052f3de78429e1e38f8",
    "collapsed": true
   },
   "outputs": [],
   "source": [
    "X.drop(overfit,axis=1,inplace=True)\n",
    "testing_features.drop(overfit,axis=1,inplace=True)"
   ]
  },
  {
   "cell_type": "code",
   "execution_count": null,
   "metadata": {
    "_uuid": "cd68771add0102b955a7bcf76c6c76c170492e31",
    "collapsed": true
   },
   "outputs": [],
   "source": [
    "print(X.shape)\n",
    "print(testing_features.shape)"
   ]
  },
  {
   "cell_type": "code",
   "execution_count": null,
   "metadata": {
    "_uuid": "2ff288ac66036835a9860d15360e2b1596a5557a",
    "collapsed": true
   },
   "outputs": [],
   "source": [
    "from sklearn.linear_model import LinearRegression\n",
    "from sklearn.model_selection import KFold, cross_val_score\n",
    "from sklearn.model_selection import cross_val_predict\n",
    "from sklearn.preprocessing import RobustScaler\n",
    "from sklearn.pipeline import make_pipeline\n",
    "\n",
    "#Build our model method\n",
    "lm = LinearRegression()\n",
    "\n",
    "#Build our cross validation method\n",
    "kfolds = KFold(n_splits=10, shuffle=True, random_state=23)\n",
    "\n",
    "#build our model scoring function\n",
    "def cv_rmse(model):\n",
    "    rmse = np.sqrt(-cross_val_score(model, X, y, \n",
    "                                   scoring=\"neg_mean_squared_error\", \n",
    "                                   cv = kfolds))\n",
    "    return(rmse)\n",
    "\n",
    "\n",
    "#second scoring metric\n",
    "def cv_rmsle(model):\n",
    "    rmsle = np.sqrt(np.log(-cross_val_score(model, X, y,\n",
    "                                           scoring = 'neg_mean_squared_error',\n",
    "                                           cv=kfolds)))\n",
    "    return(rmsle)"
   ]
  },
  {
   "cell_type": "code",
   "execution_count": null,
   "metadata": {
    "_uuid": "656b99c15b3426b12e13582e71e8d2b791c5e201",
    "collapsed": true
   },
   "outputs": [],
   "source": [
    "benchmark_model = make_pipeline(RobustScaler(),\n",
    "                                lm).fit(X=X, y=y)\n",
    "cv_rmse(benchmark_model).mean()"
   ]
  },
  {
   "cell_type": "code",
   "execution_count": null,
   "metadata": {
    "_uuid": "dc9492a0db9fba7054554f82948893dac9122292",
    "collapsed": true
   },
   "outputs": [],
   "source": [
    "coeffs = pd.DataFrame(list(zip(X.columns, benchmark_model.steps[1][1].coef_)), columns=['Predictors', 'Coefficients'])\n",
    "\n",
    "coeffs.sort_values(by='Coefficients', ascending=False)"
   ]
  },
  {
   "cell_type": "code",
   "execution_count": null,
   "metadata": {
    "_uuid": "1129dde7a59a2183db2647518c3b740fbe2aa1a1",
    "collapsed": true
   },
   "outputs": [],
   "source": [
    "from sklearn.linear_model import RidgeCV\n",
    "\n",
    "def ridge_selector(k):\n",
    "    ridge_model = make_pipeline(RobustScaler(),\n",
    "                                RidgeCV(alphas = [k],\n",
    "                                        cv=kfolds)).fit(X, y)\n",
    "    \n",
    "    ridge_rmse = cv_rmse(ridge_model).mean()\n",
    "    return(ridge_rmse)"
   ]
  },
  {
   "cell_type": "code",
   "execution_count": null,
   "metadata": {
    "_uuid": "ed42db15a2c13299dff849a52245da1677d4a404",
    "collapsed": true
   },
   "outputs": [],
   "source": [
    "r_alphas = [.0001, .0003, .0005, .0007, .0009, \n",
    "          .01, 0.05, 0.1, 0.3, 1, 3, 5, 10, 15, 20, 30, 50, 60, 70, 80]\n",
    "\n",
    "ridge_scores = []\n",
    "for alpha in r_alphas:\n",
    "    score = ridge_selector(alpha)\n",
    "    ridge_scores.append(score)"
   ]
  },
  {
   "cell_type": "code",
   "execution_count": null,
   "metadata": {
    "_uuid": "edfc2247cbad8c5cfa1961dc893ec0da95226413",
    "collapsed": true
   },
   "outputs": [],
   "source": [
    "plt.plot(r_alphas, ridge_scores, label='Ridge')\n",
    "plt.legend('center')\n",
    "plt.xlabel('alpha')\n",
    "plt.ylabel('score')\n",
    "\n",
    "ridge_score_table = pd.DataFrame(ridge_scores, r_alphas, columns=['RMSE'])\n",
    "ridge_score_table"
   ]
  },
  {
   "cell_type": "code",
   "execution_count": null,
   "metadata": {
    "_uuid": "bba1e0fed2f00723a29d50677a9eb754b72abc6c",
    "collapsed": true
   },
   "outputs": [],
   "source": [
    "alphas_alt = [14.5, 14.6, 14.7, 14.8, 14.9, 15, 15.1, 15.2, 15.3, 15.4, 15.5]\n",
    "\n",
    "ridge_model2 = make_pipeline(RobustScaler(),\n",
    "                            RidgeCV(alphas = alphas_alt,\n",
    "                                    cv=kfolds)).fit(X, y)\n",
    "\n",
    "cv_rmse(ridge_model2).mean()"
   ]
  },
  {
   "cell_type": "code",
   "execution_count": null,
   "metadata": {
    "_uuid": "b1141e07b845f66697a30361676f6da87f6a6e55",
    "collapsed": true
   },
   "outputs": [],
   "source": [
    "ridge_model2.steps[1][1].alpha_"
   ]
  },
  {
   "cell_type": "code",
   "execution_count": null,
   "metadata": {
    "_uuid": "2c25946002dadcc587f15523c3e1fdc35d6d5fb9",
    "collapsed": true
   },
   "outputs": [],
   "source": [
    "from sklearn.linear_model import LassoCV\n",
    "\n",
    "\n",
    "alphas = [0.00005, 0.0001, 0.0003, 0.0005, 0.0007, \n",
    "          0.0009, 0.01]\n",
    "alphas2 = [0.00005, 0.0001, 0.0002, 0.0003, 0.0004, 0.0005,\n",
    "           0.0006, 0.0007, 0.0008]\n",
    "\n",
    "\n",
    "lasso_model2 = make_pipeline(RobustScaler(),\n",
    "                             LassoCV(max_iter=1e7,\n",
    "                                    alphas = alphas2,\n",
    "                                    random_state = 42)).fit(X, y)"
   ]
  },
  {
   "cell_type": "code",
   "execution_count": null,
   "metadata": {
    "_uuid": "2d8300956690aa04223293199acedd6166b672db",
    "collapsed": true
   },
   "outputs": [],
   "source": [
    "scores = lasso_model2.steps[1][1].mse_path_\n",
    "\n",
    "plt.plot(alphas2, scores, label='Lasso')\n",
    "plt.legend(loc='center')\n",
    "plt.xlabel('alpha')\n",
    "plt.ylabel('RMSE')\n",
    "plt.tight_layout()\n",
    "plt.show()"
   ]
  },
  {
   "cell_type": "code",
   "execution_count": null,
   "metadata": {
    "_uuid": "a80b62eccf9674fca182988c1340805a372b9ab4",
    "collapsed": true
   },
   "outputs": [],
   "source": [
    "lasso_model2.steps[1][1].alpha_"
   ]
  },
  {
   "cell_type": "code",
   "execution_count": null,
   "metadata": {
    "_uuid": "e4861ef13dfe412feb177aa8fb0d535741530ac8",
    "collapsed": true
   },
   "outputs": [],
   "source": [
    "cv_rmse(lasso_model2).mean()"
   ]
  },
  {
   "cell_type": "code",
   "execution_count": null,
   "metadata": {
    "_uuid": "644f9c3c3f076e0b5fc2584185236762c0ee0b4b",
    "collapsed": true
   },
   "outputs": [],
   "source": [
    "coeffs = pd.DataFrame(list(zip(X.columns, lasso_model2.steps[1][1].coef_)), columns=['Predictors', 'Coefficients'])"
   ]
  },
  {
   "cell_type": "code",
   "execution_count": null,
   "metadata": {
    "_uuid": "36cf5fc6f9b810fe56de6b6c3381e67d0ffe5fd5",
    "collapsed": true
   },
   "outputs": [],
   "source": [
    "used_coeffs = coeffs[coeffs['Coefficients'] != 0].sort_values(by='Coefficients', ascending=False)\n",
    "print(used_coeffs.shape)\n",
    "print(used_coeffs)"
   ]
  },
  {
   "cell_type": "code",
   "execution_count": null,
   "metadata": {
    "_uuid": "4510e99133016e26eaf43964f628035f0196fffe",
    "collapsed": true
   },
   "outputs": [],
   "source": [
    "used_coeffs_values = X[used_coeffs['Predictors']]\n",
    "used_coeffs_values.shape"
   ]
  },
  {
   "cell_type": "code",
   "execution_count": null,
   "metadata": {
    "_uuid": "f7dd81b72ea54ea0870916a99725e5f5e474822f",
    "collapsed": true
   },
   "outputs": [],
   "source": [
    "overfit_test2 = []\n",
    "for i in used_coeffs_values.columns:\n",
    "    counts2 = used_coeffs_values[i].value_counts()\n",
    "    zeros2 = counts2.iloc[0]\n",
    "    if zeros2 / len(used_coeffs_values) * 100 > 99.5:\n",
    "        overfit_test2.append(i)\n",
    "        \n",
    "overfit_test2"
   ]
  },
  {
   "cell_type": "code",
   "execution_count": null,
   "metadata": {
    "_uuid": "b8308963987c45fb367603e9e169a86954db835d",
    "collapsed": true
   },
   "outputs": [],
   "source": [
    "from sklearn.linear_model import ElasticNetCV\n",
    "\n",
    "e_alphas = [0.0001, 0.0002, 0.0003, 0.0004, 0.0005, 0.0006, 0.0007]\n",
    "e_l1ratio = [0.8, 0.85, 0.9, 0.95, 0.99, 1]\n",
    "\n",
    "elastic_cv = make_pipeline(RobustScaler(), \n",
    "                           ElasticNetCV(max_iter=1e7, alphas=e_alphas, \n",
    "                                        cv=kfolds, l1_ratio=e_l1ratio))\n",
    "\n",
    "elastic_model3 = elastic_cv.fit(X, y)"
   ]
  },
  {
   "cell_type": "code",
   "execution_count": null,
   "metadata": {
    "_uuid": "d120429641c17ac21db5b4cc76770451d49efb65",
    "collapsed": true
   },
   "outputs": [],
   "source": [
    "cv_rmse(elastic_model3).mean()"
   ]
  },
  {
   "cell_type": "code",
   "execution_count": null,
   "metadata": {
    "_uuid": "fa481c47cc6e11cd8ff06ba1598358fa2669f8fe",
    "collapsed": true
   },
   "outputs": [],
   "source": [
    "print(elastic_model3.steps[1][1].l1_ratio_)\n",
    "print(elastic_model3.steps[1][1].alpha_)"
   ]
  },
  {
   "cell_type": "code",
   "execution_count": null,
   "metadata": {
    "_uuid": "d2da57332ea298c865faf08a9fd148e43d31372c",
    "collapsed": true
   },
   "outputs": [],
   "source": [
    "from sklearn.model_selection import GridSearchCV\n",
    "from matplotlib.pylab import rcParams\n",
    "rcParams['figure.figsize'] = 12, 4\n",
    "%matplotlib inline\n",
    "import xgboost as xgb\n",
    "from xgboost import XGBRegressor"
   ]
  },
  {
   "cell_type": "code",
   "execution_count": null,
   "metadata": {
    "_uuid": "eb07ef351009364d330e90bfc3f406963c2b1124",
    "collapsed": true
   },
   "outputs": [],
   "source": [
    "from sklearn.metrics import mean_squared_error\n",
    "\n",
    "def modelfit(alg, dtrain, target, useTrainCV=True, \n",
    "             cv_folds=5, early_stopping_rounds=50):\n",
    "    \n",
    "    if useTrainCV:\n",
    "        xgb_param = alg.get_xgb_params()\n",
    "        xgtrain = xgb.DMatrix(dtrain.values, \n",
    "                              label=y.values)\n",
    "        \n",
    "        print(\"\\nGetting Cross-validation result..\")\n",
    "        cvresult = xgb.cv(xgb_param, xgtrain, \n",
    "                          num_boost_round=alg.get_params()['n_estimators'], \n",
    "                          nfold=cv_folds,metrics='rmse', \n",
    "                          early_stopping_rounds=early_stopping_rounds,\n",
    "                          verbose_eval = True)\n",
    "        alg.set_params(n_estimators=cvresult.shape[0])\n",
    "    \n",
    "    #Fit the algorithm on the data\n",
    "    print(\"\\nFitting algorithm to data...\")\n",
    "    alg.fit(dtrain, target, eval_metric='rmse')\n",
    "        \n",
    "    #Predict training set:\n",
    "    print(\"\\nPredicting from training data...\")\n",
    "    dtrain_predictions = alg.predict(dtrain)\n",
    "        \n",
    "    #Print model report:\n",
    "    print(\"\\nModel Report\")\n",
    "    print(\"RMSE : %.4g\" % np.sqrt(mean_squared_error(target.values,\n",
    "                                             dtrain_predictions)))"
   ]
  },
  {
   "cell_type": "code",
   "execution_count": null,
   "metadata": {
    "_uuid": "bf5e92a97e8445994b962287a4e2015033e7572e",
    "collapsed": true
   },
   "outputs": [],
   "source": [
    "xgb3 = XGBRegressor(learning_rate =0.01, n_estimators=3460, max_depth=3,\n",
    "                     min_child_weight=0 ,gamma=0, subsample=0.7,\n",
    "                     colsample_bytree=0.7,objective= 'reg:linear',\n",
    "                     nthread=4,scale_pos_weight=1,seed=27, reg_alpha=0.00006)\n",
    "\n",
    "xgb_fit = xgb3.fit(X, y)"
   ]
  },
  {
   "cell_type": "code",
   "execution_count": null,
   "metadata": {
    "_uuid": "e1e1b7406b4310c42f4ae139d1a2a710464afc37",
    "collapsed": true
   },
   "outputs": [],
   "source": [
    "from sklearn import svm\n",
    "svr_opt = svm.SVR(C = 100000, gamma = 1e-08)\n",
    "\n",
    "svr_fit = svr_opt.fit(X, y)"
   ]
  },
  {
   "cell_type": "code",
   "execution_count": null,
   "metadata": {
    "_uuid": "2fe7eb0418a9a507021b180fea359a805f3cb54a",
    "collapsed": true
   },
   "outputs": [],
   "source": [
    "from lightgbm import LGBMRegressor\n",
    "\n",
    "lgbm_model = LGBMRegressor(objective='regression',num_leaves=5,\n",
    "                              learning_rate=0.05, n_estimators=720,\n",
    "                              max_bin = 55, bagging_fraction = 0.8,\n",
    "                              bagging_freq = 5, feature_fraction = 0.2319,\n",
    "                              feature_fraction_seed=9, bagging_seed=9,\n",
    "                              min_data_in_leaf =6, min_sum_hessian_in_leaf = 11)"
   ]
  },
  {
   "cell_type": "code",
   "execution_count": null,
   "metadata": {
    "_uuid": "2bc6f33ffa58a84a8df1771e105427904ede5ce5",
    "collapsed": true
   },
   "outputs": [],
   "source": [
    "cv_rmse(lgbm_model).mean()"
   ]
  },
  {
   "cell_type": "code",
   "execution_count": null,
   "metadata": {
    "_uuid": "de8aeee499c17500200d5f16607ca0b92f103b7b",
    "collapsed": true
   },
   "outputs": [],
   "source": [
    "lgbm_fit = lgbm_model.fit(X, y)"
   ]
  },
  {
   "cell_type": "code",
   "execution_count": null,
   "metadata": {
    "_uuid": "de9c1182f5638ca21bedf80e237c48acadef5d4f",
    "collapsed": true
   },
   "outputs": [],
   "source": [
    "from IPython.display import Image\n",
    "from IPython.core.display import HTML \n",
    "Image(url = \"http://i.imgur.com/QBuDOjs.jpg\")"
   ]
  },
  {
   "cell_type": "code",
   "execution_count": null,
   "metadata": {
    "_uuid": "33331f5bdc7530c65c8491bfc70d95bc7abb792e",
    "collapsed": true
   },
   "outputs": [],
   "source": [
    "from mlxtend.regressor import StackingCVRegressor\n",
    "from sklearn.pipeline import make_pipeline\n",
    "\n",
    "#setup models\n",
    "ridge = make_pipeline(RobustScaler(), \n",
    "                      RidgeCV(alphas = alphas_alt, cv=kfolds))\n",
    "\n",
    "lasso = make_pipeline(RobustScaler(),\n",
    "                      LassoCV(max_iter=1e7, alphas = alphas2,\n",
    "                              random_state = 42, cv=kfolds))\n",
    "\n",
    "elasticnet = make_pipeline(RobustScaler(), \n",
    "                           ElasticNetCV(max_iter=1e7, alphas=e_alphas, \n",
    "                                        cv=kfolds, l1_ratio=e_l1ratio))\n",
    "\n",
    "lightgbm = make_pipeline(RobustScaler(),\n",
    "                        LGBMRegressor(objective='regression',num_leaves=5,\n",
    "                                      learning_rate=0.05, n_estimators=720,\n",
    "                                      max_bin = 55, bagging_fraction = 0.8,\n",
    "                                      bagging_freq = 5, feature_fraction = 0.2319,\n",
    "                                      feature_fraction_seed=9, bagging_seed=9,\n",
    "                                      min_data_in_leaf =6, \n",
    "                                      min_sum_hessian_in_leaf = 11))\n",
    "\n",
    "xgboost = make_pipeline(RobustScaler(),\n",
    "                        XGBRegressor(learning_rate =0.01, n_estimators=3460, \n",
    "                                     max_depth=3,min_child_weight=0 ,\n",
    "                                     gamma=0, subsample=0.7,\n",
    "                                     colsample_bytree=0.7,\n",
    "                                     objective= 'reg:linear',nthread=4,\n",
    "                                     scale_pos_weight=1,seed=27, \n",
    "                                     reg_alpha=0.00006))\n",
    "\n",
    "\n",
    "#stack\n",
    "stack_gen = StackingCVRegressor(regressors=(ridge, lasso, elasticnet, \n",
    "                                            xgboost, lightgbm), \n",
    "                               meta_regressor=xgboost,\n",
    "                               use_features_in_secondary=True)\n",
    "\n",
    "#prepare dataframes\n",
    "stackX = np.array(X)\n",
    "stacky = np.array(y)"
   ]
  },
  {
   "cell_type": "code",
   "execution_count": null,
   "metadata": {
    "_uuid": "002be22e794a02d60614a12f377b670000e0ce1c",
    "collapsed": true
   },
   "outputs": [],
   "source": [
    "#scoring \n",
    "\n",
    "# print(\"cross validated scores\")\n",
    "\n",
    "# for model, label in zip([ridge, lasso, elasticnet, xgboost, lightgbm, stack_gen],\n",
    "#                      ['RidgeCV', 'LassoCV', 'ElasticNetCV', 'xgboost', 'lightgbm',\n",
    "#                       'StackingCVRegressor']):\n",
    "    \n",
    "#     SG_scores = cross_val_score(model, stackX, stacky, cv=kfolds,\n",
    "#                                scoring='neg_mean_squared_error')\n",
    "#     print(\"RMSE\", np.sqrt(-SG_scores.mean()), \"SD\", scores.std(), label)"
   ]
  },
  {
   "cell_type": "code",
   "execution_count": null,
   "metadata": {
    "_uuid": "2eaafdd70a618599646d21e38914b880120fe100",
    "collapsed": true
   },
   "outputs": [],
   "source": [
    "stack_gen_model = stack_gen.fit(stackX, stacky)"
   ]
  },
  {
   "cell_type": "code",
   "execution_count": null,
   "metadata": {
    "_uuid": "8888eb63338dab96038104e98d169823d275bd17",
    "collapsed": true
   },
   "outputs": [],
   "source": [
    "em_preds = elastic_model3.predict(testing_features)\n",
    "lasso_preds = lasso_model2.predict(testing_features)\n",
    "ridge_preds = ridge_model2.predict(testing_features)\n",
    "stack_gen_preds = stack_gen_model.predict(testing_features)\n",
    "xgb_preds = xgb_fit.predict(testing_features)\n",
    "svr_preds = svr_fit.predict(testing_features)\n",
    "lgbm_preds = lgbm_fit.predict(testing_features)"
   ]
  },
  {
   "cell_type": "code",
   "execution_count": null,
   "metadata": {
    "_uuid": "350e55b283a54e1fb4c405ff86d6f45653ecac11",
    "collapsed": true
   },
   "outputs": [],
   "source": [
    "stack_preds = ((0.2*em_preds) + (0.1*lasso_preds) + (0.1*ridge_preds) + \n",
    "               (0.2*xgb_preds) + (0.1*lgbm_preds) + (0.3*stack_gen_preds))"
   ]
  },
  {
   "cell_type": "code",
   "execution_count": null,
   "metadata": {
    "_uuid": "1f9a6ba9df993fe338013914a9c29cacb6722e22",
    "collapsed": true
   },
   "outputs": [],
   "source": [
    "submission = pd.read_csv(\"../input/sample_submission.csv\")"
   ]
  },
  {
   "cell_type": "code",
   "execution_count": null,
   "metadata": {
    "_uuid": "4066065b30c59c20d72c1a175ff58b3f44057592",
    "collapsed": true
   },
   "outputs": [],
   "source": [
    "submission.iloc[:,1] = np.expm1(stack_preds)"
   ]
  },
  {
   "cell_type": "code",
   "execution_count": null,
   "metadata": {
    "_uuid": "8bbbd7f356109d8833ec3bbbe4fa7c7b34604b39",
    "collapsed": true
   },
   "outputs": [],
   "source": [
    "submission.to_csv(\"final_submission.csv\", index=False)"
   ]
  },
  {
   "cell_type": "code",
   "execution_count": null,
   "metadata": {
    "_uuid": "e8006434b7075dfbf804efb072329f93496d6b1b",
    "collapsed": true
   },
   "outputs": [],
   "source": []
  }
 ],
 "metadata": {
  "kernelspec": {
   "display_name": "Python 3",
   "language": "python",
   "name": "python3"
  },
  "language_info": {
   "codemirror_mode": {
    "name": "ipython",
    "version": 3
   },
   "file_extension": ".py",
   "mimetype": "text/x-python",
   "name": "python",
   "nbconvert_exporter": "python",
   "pygments_lexer": "ipython3",
   "version": "3.6.5"
  }
 },
 "nbformat": 4,
 "nbformat_minor": 1
}
