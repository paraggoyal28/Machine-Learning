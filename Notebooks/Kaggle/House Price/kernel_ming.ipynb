{
  "cells": [
    {
      "metadata": {
        "_cell_guid": "79c7e3d0-c299-4dcb-8224-4455121ee9b0",
        "collapsed": true,
        "_uuid": "d629ff2d2480ee46fbb7e2d37f6b5fab8052498a",
        "trusted": true
      },
      "cell_type": "code",
      "source": "import pandas as pd\nimport matplotlib.pyplot as plt\n%matplotlib inline\nplt.style.use('seaborn')\nfrom scipy.stats import norm, skew\nimport numpy as np\nimport seaborn as sns",
      "execution_count": null,
      "outputs": []
    },
    {
      "metadata": {
        "trusted": true,
        "collapsed": true,
        "_uuid": "a8a7d52d3ffe663fdea093f5c8c617f2a8c7defc"
      },
      "cell_type": "code",
      "source": "#Data reading\n\ntrain = pd.read_csv(\"../input/train.csv\")\ntest = pd.read_csv(\"../input/test.csv\")",
      "execution_count": null,
      "outputs": []
    },
    {
      "metadata": {
        "trusted": true,
        "_uuid": "3923b3635cef32d84f2e2302c765485133eeeb1a",
        "collapsed": true
      },
      "cell_type": "code",
      "source": "print(\"Train set size:\", train.shape)\nprint(\"Test set size:\", test.shape)",
      "execution_count": null,
      "outputs": []
    },
    {
      "metadata": {
        "trusted": true,
        "_uuid": "f78b3cd80e27b9c6728167efaa898eed46aef576",
        "collapsed": true
      },
      "cell_type": "code",
      "source": "plt.scatter(train.GrLivArea, train.SalePrice)",
      "execution_count": null,
      "outputs": []
    },
    {
      "metadata": {
        "trusted": true,
        "_uuid": "bc24fc70a2ecca2d1a002e6e2f198a6d433d5fcf",
        "collapsed": true
      },
      "cell_type": "code",
      "source": "train = train[train.GrLivArea < 4500]\nplt.scatter(train.GrLivArea, train.SalePrice)",
      "execution_count": null,
      "outputs": []
    },
    {
      "metadata": {
        "trusted": true,
        "_uuid": "1d1f918f0d3a47417a78ef4d9860a932ad0c77c8",
        "collapsed": true
      },
      "cell_type": "code",
      "source": "train.drop(['Id'], axis=1, inplace=True)\ntest.drop(['Id'], axis=1, inplace=True)",
      "execution_count": null,
      "outputs": []
    },
    {
      "metadata": {
        "trusted": true,
        "_uuid": "cfd7d462f3c994b8ddefb929fd2bbd0f68dfcb66",
        "collapsed": true
      },
      "cell_type": "code",
      "source": "print(\"Train set size:\", train.shape)\nprint(\"Test set size:\", test.shape)",
      "execution_count": null,
      "outputs": []
    },
    {
      "metadata": {
        "trusted": true,
        "_uuid": "1e457bec9b6b31fab4a0e8ad8108f3e512c14c75",
        "collapsed": true
      },
      "cell_type": "code",
      "source": "df = pd.concat([train.SalePrice, np.log(train.SalePrice + 1).rename('LogSalePrice')], axis=1, names=['SalePrice', 'LogSalePrice'])\ndf.head()",
      "execution_count": null,
      "outputs": []
    },
    {
      "metadata": {
        "trusted": true,
        "_uuid": "b29f4473cb8e2c217671e3ae9dd9c341ef8b30b2",
        "collapsed": true
      },
      "cell_type": "code",
      "source": "plt.subplot(1, 2, 1)\nsns.distplot(train.SalePrice, kde=False, fit = norm)\n\nplt.subplot(1, 2, 2)\nsns.distplot(np.log(train.SalePrice + 1), kde=False, fit = norm)\nplt.xlabel('Log SalePrice')",
      "execution_count": null,
      "outputs": []
    },
    {
      "metadata": {
        "trusted": true,
        "collapsed": true,
        "_uuid": "9315c3befcca137d32e6970a8623c8625acd413a"
      },
      "cell_type": "code",
      "source": "train.SalePrice = np.log1p(train.SalePrice)",
      "execution_count": null,
      "outputs": []
    },
    {
      "metadata": {
        "trusted": true,
        "collapsed": true,
        "_uuid": "7cc052fff07898993f525e996b248af1cdfa3753"
      },
      "cell_type": "code",
      "source": "y = train.SalePrice.reset_index(drop=True)\ntrain_features = train.drop(['SalePrice'], axis=1)\ntest_features = test",
      "execution_count": null,
      "outputs": []
    },
    {
      "metadata": {
        "trusted": true,
        "_uuid": "a4f228262bc91b3ddb23bd147321efed5575fcfe",
        "collapsed": true
      },
      "cell_type": "code",
      "source": "features = pd.concat([train_features, test_features]).reset_index(drop=True)\nfeatures.shape",
      "execution_count": null,
      "outputs": []
    },
    {
      "metadata": {
        "trusted": true,
        "_uuid": "445d2aa854175e44caaf3d1b219b0e28ee9e903b",
        "collapsed": true
      },
      "cell_type": "code",
      "source": "nulls = np.sum(features.isnull())\nnullcols = nulls.loc[(nulls != 0)]\ndtypes = features.dtypes\ndtypes2 = dtypes.loc[(nulls != 0)]\ninfo = pd.concat([nullcols, dtypes2], axis=1).sort_values(by=0, ascending=False)\nprint(info)\nprint(\"There are\", len(nullcols), \"columns with missing values\")",
      "execution_count": null,
      "outputs": []
    },
    {
      "metadata": {
        "trusted": true,
        "collapsed": true,
        "_uuid": "71a45e277ffb7c09305ac87f5c662d692a64db25"
      },
      "cell_type": "code",
      "source": "features['Functional'] = features['Functional'].fillna('Typ')\nfeatures['Electrical'] = features['Electrical'].fillna(\"SBrkr\")\nfeatures['KitchenQual'] = features['KitchenQual'].fillna(\"TA\")\n\nfeatures['Exterior1st'] = features['Exterior1st'].fillna(features['Exterior1st'].mode()[0])\nfeatures['Exterior2nd'] = features['Exterior2nd'].fillna(features['Exterior2nd'].mode()[0])\n\nfeatures['SaleType'] = features['SaleType'].fillna(features['SaleType'].mode()[0])",
      "execution_count": null,
      "outputs": []
    },
    {
      "metadata": {
        "trusted": true,
        "_uuid": "7cceed5a895a5f1837a7e86e0caa2264a77fd9d9",
        "collapsed": true
      },
      "cell_type": "code",
      "source": "pd.set_option('max_columns', None)\nfeatures[features['PoolArea'] > 0 & features['PoolQC'].isnull()]",
      "execution_count": null,
      "outputs": []
    },
    {
      "metadata": {
        "trusted": true,
        "collapsed": true,
        "_uuid": "e36d86444aec955350e360bd7d196562cb6dae9f"
      },
      "cell_type": "code",
      "source": "features.loc[2418, 'PoolQC'] = 'Fa'\nfeatures.loc[2501, 'PoolQC'] = 'Gd'\nfeatures.loc[2597, 'PoolQC'] = 'Fa'",
      "execution_count": null,
      "outputs": []
    },
    {
      "metadata": {
        "trusted": true,
        "_uuid": "6bc8a661d56d30ec2b99303d2d91393a1a5104f3",
        "collapsed": true
      },
      "cell_type": "code",
      "source": "pd.set_option('max_columns', None)\nfeatures[(features['GarageType'] == 'Detchd') & features['GarageYrBlt'].isnull()]",
      "execution_count": null,
      "outputs": []
    },
    {
      "metadata": {
        "trusted": true,
        "collapsed": true,
        "_uuid": "d9bebf9a237b6ec15388a258a7e6a19f5daee5de"
      },
      "cell_type": "code",
      "source": "features.loc[2124, 'GarageYrBlt'] = features['GarageYrBlt'].median()\nfeatures.loc[2574, 'GarageYrBlt'] = features['GarageYrBlt'].median()\n\nfeatures.loc[2124, 'GarageFinish'] = features['GarageFinish'].mode()[0]\nfeatures.loc[2574, 'GarageFinish'] = features['GarageFinish'].mode()[0]\n\nfeatures.loc[2574, 'GarageCars'] = features['GarageCars'].median()\n\nfeatures.loc[2124, 'GarageArea'] = features['GarageArea'].median()\nfeatures.loc[2574, 'GarageArea'] = features['GarageArea'].median()\n\nfeatures.loc[2124, 'GarageQual'] = features['GarageQual'].mode()[0]\nfeatures.loc[2574, 'GarageQual'] = features['GarageQual'].mode()[0]\n\nfeatures.loc[2124, 'GarageCond'] = features['GarageCond'].mode()[0]\nfeatures.loc[2574, 'GarageCond'] = features['GarageCond'].mode()[0]",
      "execution_count": null,
      "outputs": []
    },
    {
      "metadata": {
        "trusted": true,
        "collapsed": true,
        "_uuid": "2bea38c3f821e0b378e09225b43caf3b37b699e9"
      },
      "cell_type": "code",
      "source": "basement_columns = ['BsmtQual', 'BsmtCond', 'BsmtExposure', 'BsmtFinType1',\n                   'BsmtFinType2', 'BsmtFinSF1', 'BsmtFinSF2', 'BsmtUnfSF',\n                   'TotalBsmtSF']\n\ntempdf = features[basement_columns]\ntempdfnulls = tempdf[tempdf.isnull().any(axis=1)]",
      "execution_count": null,
      "outputs": []
    },
    {
      "metadata": {
        "trusted": true,
        "_uuid": "992819bca0012032953daa54bc078f08566524fa",
        "collapsed": true
      },
      "cell_type": "code",
      "source": "#now select just the rows that have less then 5 NA's, \n# meaning there is incongruency in the row.\ntempdfnulls[(tempdfnulls.isnull()).sum(axis=1) < 5]",
      "execution_count": null,
      "outputs": []
    },
    {
      "metadata": {
        "trusted": true,
        "collapsed": true,
        "_uuid": "30b58facf59a721f82cb6fab20967fb7ff91fc99"
      },
      "cell_type": "code",
      "source": "features.loc[332, 'BsmtFinType2'] = 'ALQ' #since smaller than SF1\nfeatures.loc[947, 'BsmtExposure'] = 'No' \nfeatures.loc[1485, 'BsmtExposure'] = 'No'\nfeatures.loc[2038, 'BsmtCond'] = 'TA'\nfeatures.loc[2183, 'BsmtCond'] = 'TA'\nfeatures.loc[2215, 'BsmtQual'] = 'Po' #v small basement so let's do Poor.\nfeatures.loc[2216, 'BsmtQual'] = 'Fa' #similar but a bit bigger.\nfeatures.loc[2346, 'BsmtExposure'] = 'No' #unfinished bsmt so prob not.\nfeatures.loc[2522, 'BsmtCond'] = 'Gd' #cause ALQ for bsmtfintype1",
      "execution_count": null,
      "outputs": []
    },
    {
      "metadata": {
        "trusted": true,
        "_uuid": "53944aad3b237bdf8a946133d7065aa42b222e0b",
        "collapsed": true
      },
      "cell_type": "code",
      "source": "subclass_group = features.groupby('MSSubClass')\nZoning_modes = subclass_group['MSZoning'].apply(lambda x : x.mode()[0])\nZoning_modes",
      "execution_count": null,
      "outputs": []
    },
    {
      "metadata": {
        "trusted": true,
        "collapsed": true,
        "_uuid": "9d1479bbb5569459545920f28c2dd1d158b538d0"
      },
      "cell_type": "code",
      "source": "features['MSZoning'] = features.groupby('MSSubClass')['MSZoning'].transform(lambda x: x.fillna(x.mode()[0]))",
      "execution_count": null,
      "outputs": []
    },
    {
      "metadata": {
        "trusted": true,
        "_uuid": "38b99b2455517a34c33159dd3300627c680dbb30",
        "collapsed": true
      },
      "cell_type": "code",
      "source": "objects = []\nfor i in features.columns:\n    if features[i].dtype == object:\n        objects.append(i)\n\nfeatures.update(features[objects].fillna('None'))\n\nnulls = np.sum(features.isnull())\nnullcols = nulls.loc[(nulls != 0)]\ndtypes = features.dtypes\ndtypes2 = dtypes.loc[(nulls != 0)]\ninfo = pd.concat([nullcols, dtypes2], axis=1).sort_values(by=0, ascending=False)\nprint(info)\nprint(\"There are\", len(nullcols), \"columns with missing values\")",
      "execution_count": null,
      "outputs": []
    },
    {
      "metadata": {
        "trusted": true,
        "_uuid": "5f002788a24b9f9eb67e2006a9e58c2790327809",
        "collapsed": true
      },
      "cell_type": "code",
      "source": "neighborhood_group = features.groupby('Neighborhood')\nlot_medians = neighborhood_group['LotFrontage'].median()\nlot_medians",
      "execution_count": null,
      "outputs": []
    },
    {
      "metadata": {
        "trusted": true,
        "collapsed": true,
        "_uuid": "9f77c7cda58adf902a77480b1c7dac875ec251b7"
      },
      "cell_type": "code",
      "source": "features['LotFrontage'] = features.groupby('Neighborhood')['LotFrontage'].transform(lambda x: x.fillna(x.median()))",
      "execution_count": null,
      "outputs": []
    },
    {
      "metadata": {
        "trusted": true,
        "_uuid": "30e82e76f5bb76776fd7236d6339751a4c4a5871",
        "collapsed": true
      },
      "cell_type": "code",
      "source": "pd.set_option('max_columns', None)\nfeatures[(features['GarageYrBlt'].isnull()) & features['GarageArea'] > 0]",
      "execution_count": null,
      "outputs": []
    },
    {
      "metadata": {
        "trusted": true,
        "_uuid": "61c274b946dcc9e8f430c4730a0c5b2d67ddc27b",
        "collapsed": true
      },
      "cell_type": "code",
      "source": "pd.set_option('max_columns', None)\nfeatures[(features['MasVnrArea'].isnull())]\n",
      "execution_count": null,
      "outputs": []
    },
    {
      "metadata": {
        "trusted": true,
        "_uuid": "32d64979e91f33b98e3c86064ec0ffb4f3f3aa79",
        "collapsed": true
      },
      "cell_type": "code",
      "source": "#Filling in the rest of the NA's\n\nnumeric_dtypes = ['int16', 'int32', 'int64', 'float16', 'float32', 'float64']\nnumerics = []\nfor i in features.columns:\n    if features[i].dtype in numeric_dtypes: \n        numerics.append(i)\n        \nfeatures.update(features[numerics].fillna(0))\n\nnulls = np.sum(features.isnull())\nnullcols = nulls.loc[(nulls != 0)]\ndtypes = features.dtypes\ndtypes2 = dtypes.loc[(nulls != 0)]\ninfo = pd.concat([nullcols, dtypes2], axis=1).sort_values(by=0, ascending=False)\nprint(info)\nprint(\"There are\", len(nullcols), \"columns with missing values\")",
      "execution_count": null,
      "outputs": []
    },
    {
      "metadata": {
        "trusted": true,
        "_uuid": "809dc17536fca75297c230a209ca5da7129af782",
        "collapsed": true
      },
      "cell_type": "code",
      "source": "features.describe()",
      "execution_count": null,
      "outputs": []
    },
    {
      "metadata": {
        "trusted": true,
        "_uuid": "558207433757bd6c3c6a72fcf1d848c89992ba14",
        "collapsed": true
      },
      "cell_type": "code",
      "source": "features[features['GarageYrBlt'] == 2207]",
      "execution_count": null,
      "outputs": []
    },
    {
      "metadata": {
        "trusted": true,
        "collapsed": true,
        "_uuid": "696fe31ab10261cd7a45cd0174ad31b59c1a3a3a"
      },
      "cell_type": "code",
      "source": "features.loc[2590, 'GarageYrBlt'] = 2007",
      "execution_count": null,
      "outputs": []
    },
    {
      "metadata": {
        "trusted": true,
        "collapsed": true,
        "_uuid": "9fed8a7cc56485f6323ac42d36b770b1034b0910"
      },
      "cell_type": "code",
      "source": "#factors = ['MSSubClass', 'MoSold']\nfactors = ['MSSubClass']\n \n\n\nfor i in factors:\n    features.update(features[i].astype('str'))",
      "execution_count": null,
      "outputs": []
    },
    {
      "metadata": {
        "trusted": true,
        "_uuid": "db4197223b1a9e0dfc3d9293e86c2dc6f533fffe",
        "collapsed": true
      },
      "cell_type": "code",
      "source": "from scipy.stats import skew\n\nnumeric_dtypes = ['int16', 'int32', 'int64', 'float16', 'float32', 'float64']\nnumerics2 = []\nfor i in features.columns:\n    if features[i].dtype in numeric_dtypes: \n        numerics2.append(i)\n\nskew_features = features[numerics2].apply(lambda x: skew(x)).sort_values(ascending=False)\nskews = pd.DataFrame({'skew':skew_features})\nskews",
      "execution_count": null,
      "outputs": []
    },
    {
      "metadata": {
        "trusted": true,
        "_uuid": "094d1e0c27038e6914d3a22c7bf4719bd8c3128b",
        "collapsed": true
      },
      "cell_type": "code",
      "source": "from scipy.special import boxcox1p\nfrom scipy.stats import boxcox_normmax\n\nhigh_skew = skew_features[skew_features > 0.5]\nhigh_skew = high_skew\nskew_index = high_skew.index\n\nfor i in skew_index:\n    features[i]= boxcox1p(features[i], boxcox_normmax(features[i]+1))\n\n        \nskew_features2 = features[numerics2].apply(lambda x: skew(x)).sort_values(ascending=False)\nskews2 = pd.DataFrame({'skew':skew_features2})\nskews2",
      "execution_count": null,
      "outputs": []
    },
    {
      "metadata": {
        "trusted": true,
        "collapsed": true,
        "_uuid": "b6571b7225c86727f439b1e5c1df1d6fa361c7dc"
      },
      "cell_type": "code",
      "source": "objects3 = []\nfor i in features.columns:\n    if features[i].dtype == object:\n        objects3.append(i)",
      "execution_count": null,
      "outputs": []
    },
    {
      "metadata": {
        "trusted": true,
        "_uuid": "606c5c8d9a49df03770869b31fcc954dc7b0bc44",
        "collapsed": true
      },
      "cell_type": "code",
      "source": "print(\"Training Set incomplete cases\")\n\nsums_features = features[objects3].apply(lambda x: len(np.unique(x)))\nsums_features.sort_values(ascending=False)",
      "execution_count": null,
      "outputs": []
    },
    {
      "metadata": {
        "trusted": true,
        "_uuid": "b8abf40588f9d6cace59059b8216c66cd31b8592",
        "collapsed": true
      },
      "cell_type": "code",
      "source": "print(features['Street'].value_counts())\nprint('-----')\nprint(features['Utilities'].value_counts())\nprint('-----')\nprint(features['CentralAir'].value_counts())\nprint('-----')\nprint(features['PavedDrive'].value_counts())",
      "execution_count": null,
      "outputs": []
    },
    {
      "metadata": {
        "trusted": true,
        "collapsed": true,
        "_uuid": "46524ffc45bbf61f7d4770a02ea472444fea0e23"
      },
      "cell_type": "code",
      "source": "#features = features.drop(['Utilities'], axis=1)\nfeatures = features.drop(['Utilities', 'Street'], axis=1)",
      "execution_count": null,
      "outputs": []
    },
    {
      "metadata": {
        "trusted": true,
        "collapsed": true,
        "_uuid": "7cb196b06526f3dd2b135c2a1b35b805a9b553a3"
      },
      "cell_type": "code",
      "source": "features['Total_sqr_footage'] = (features['BsmtFinSF1'] + features['BsmtFinSF2'] +\n                                 features['1stFlrSF'] + features['2ndFlrSF'])\n\nfeatures['Total_Bathrooms'] = (features['FullBath'] + (0.5*features['HalfBath']) + \n                               features['BsmtFullBath'] + (0.5*features['BsmtHalfBath']))\n\nfeatures['Total_porch_sf'] = (features['OpenPorchSF'] + features['3SsnPorch'] +\n                              features['EnclosedPorch'] + features['ScreenPorch'] +\n                             features['WoodDeckSF'])\n\n\n#simplified features\nfeatures['haspool'] = features['PoolArea'].apply(lambda x: 1 if x > 0 else 0)\nfeatures['has2ndfloor'] = features['2ndFlrSF'].apply(lambda x: 1 if x > 0 else 0)\nfeatures['hasgarage'] = features['GarageArea'].apply(lambda x: 1 if x > 0 else 0)\nfeatures['hasbsmt'] = features['TotalBsmtSF'].apply(lambda x: 1 if x > 0 else 0)\nfeatures['hasfireplace'] = features['Fireplaces'].apply(lambda x: 1 if x > 0 else 0)",
      "execution_count": null,
      "outputs": []
    },
    {
      "metadata": {
        "trusted": true,
        "_uuid": "f36b7e9fc02a0ddb68729c12ad764f6cd6d60751",
        "collapsed": true
      },
      "cell_type": "code",
      "source": "features.shape",
      "execution_count": null,
      "outputs": []
    },
    {
      "metadata": {
        "trusted": true,
        "_uuid": "72cc6888b5979c9ff3ac23b5072447a5a358c11b",
        "collapsed": true
      },
      "cell_type": "code",
      "source": "final_features = pd.get_dummies(features).reset_index(drop=True)\nfinal_features.shape",
      "execution_count": null,
      "outputs": []
    },
    {
      "metadata": {
        "trusted": true,
        "_uuid": "508a277c9d9b653f4b87423739de51a0b7487fcf",
        "collapsed": true
      },
      "cell_type": "code",
      "source": "y.shape",
      "execution_count": null,
      "outputs": []
    },
    {
      "metadata": {
        "trusted": true,
        "_uuid": "de85167264320516c1d6abfbfec35202989c7d68",
        "collapsed": true
      },
      "cell_type": "code",
      "source": "X = final_features.iloc[:len(y),:]\ntesting_features = final_features.iloc[len(X):,:]\n\nprint(X.shape)\nprint(testing_features.shape)",
      "execution_count": null,
      "outputs": []
    },
    {
      "metadata": {
        "trusted": true,
        "_uuid": "5cc78e09b00eb85e69d8978ce466f4892bb77d70",
        "collapsed": true
      },
      "cell_type": "code",
      "source": "# import statsmodels.api as sm\n# ols = sm.OLS(endog = y, exog = X)\n# fit = ols.fit()\n# test2 = fit.outlier_test()['bonf(p)']",
      "execution_count": null,
      "outputs": []
    },
    {
      "metadata": {
        "trusted": true,
        "_uuid": "76db01bd7843b00b57b774931f52d3591e8b14da",
        "collapsed": true
      },
      "cell_type": "code",
      "source": "outliers = list(test2[test2<1e-3].index)\noutliers",
      "execution_count": null,
      "outputs": []
    },
    {
      "metadata": {
        "trusted": true,
        "_uuid": "6056b45a0c1ffe494c8da1a1f63c995fae116957",
        "collapsed": true
      },
      "cell_type": "code",
      "source": "outliers = [30, 88, 462, 631, 1322]",
      "execution_count": null,
      "outputs": []
    },
    {
      "metadata": {
        "trusted": true,
        "collapsed": true,
        "_uuid": "eb6d8d1f7c94deb18c831709d77a68bfb597356c"
      },
      "cell_type": "code",
      "source": "X = X.drop(X.index[outliers])\ny = y.drop(y.index[outliers])",
      "execution_count": null,
      "outputs": []
    },
    {
      "metadata": {
        "trusted": true,
        "collapsed": true,
        "_uuid": "58fdbc067a55e103ba646312005ac17df81684a3"
      },
      "cell_type": "code",
      "source": "overfit = []\nfor i in X.columns:\n    counts = X[i].value_counts()\n    zeros = counts.iloc[0]\n    if zeros / len(X) * 100 >99.94:\n        overfit.append(i)",
      "execution_count": null,
      "outputs": []
    },
    {
      "metadata": {
        "trusted": true,
        "_uuid": "10665d78bc32c88a43aba091fcece10aae5a2213",
        "collapsed": true
      },
      "cell_type": "code",
      "source": "overfit = list(overfit)\noverfit",
      "execution_count": null,
      "outputs": []
    },
    {
      "metadata": {
        "trusted": true,
        "collapsed": true,
        "_uuid": "f1bb0b2c73ec6cd039526d7b253f4e3aa8092d4f"
      },
      "cell_type": "code",
      "source": "overfit.append('MSZoning_C (all)')",
      "execution_count": null,
      "outputs": []
    },
    {
      "metadata": {
        "trusted": true,
        "_uuid": "a28f5872ded894353e0cb2798fdc3762eeb07e77",
        "collapsed": true
      },
      "cell_type": "code",
      "source": "overfit",
      "execution_count": null,
      "outputs": []
    },
    {
      "metadata": {
        "trusted": true,
        "_uuid": "e88e99977f930d1c82b6c052f3de78429e1e38f8",
        "collapsed": true
      },
      "cell_type": "code",
      "source": "X.drop(overfit,axis=1,inplace=True)\ntesting_features.drop(overfit,axis=1,inplace=True)",
      "execution_count": null,
      "outputs": []
    },
    {
      "metadata": {
        "trusted": true,
        "_uuid": "cd68771add0102b955a7bcf76c6c76c170492e31",
        "collapsed": true
      },
      "cell_type": "code",
      "source": "print(X.shape)\nprint(testing_features.shape)",
      "execution_count": null,
      "outputs": []
    },
    {
      "metadata": {
        "trusted": true,
        "collapsed": true,
        "_uuid": "2ff288ac66036835a9860d15360e2b1596a5557a"
      },
      "cell_type": "code",
      "source": "from sklearn.linear_model import LinearRegression\nfrom sklearn.model_selection import KFold, cross_val_score\nfrom sklearn.model_selection import cross_val_predict\nfrom sklearn.preprocessing import RobustScaler\nfrom sklearn.pipeline import make_pipeline\n\n#Build our model method\nlm = LinearRegression()\n\n#Build our cross validation method\nkfolds = KFold(n_splits=10, shuffle=True, random_state=23)\n\n#build our model scoring function\ndef cv_rmse(model):\n    rmse = np.sqrt(-cross_val_score(model, X, y, \n                                   scoring=\"neg_mean_squared_error\", \n                                   cv = kfolds))\n    return(rmse)\n\n\n#second scoring metric\ndef cv_rmsle(model):\n    rmsle = np.sqrt(np.log(-cross_val_score(model, X, y,\n                                           scoring = 'neg_mean_squared_error',\n                                           cv=kfolds)))\n    return(rmsle)",
      "execution_count": null,
      "outputs": []
    },
    {
      "metadata": {
        "trusted": true,
        "_uuid": "656b99c15b3426b12e13582e71e8d2b791c5e201",
        "collapsed": true
      },
      "cell_type": "code",
      "source": "benchmark_model = make_pipeline(RobustScaler(),\n                                lm).fit(X=X, y=y)\ncv_rmse(benchmark_model).mean()",
      "execution_count": null,
      "outputs": []
    },
    {
      "metadata": {
        "trusted": true,
        "_uuid": "dc9492a0db9fba7054554f82948893dac9122292",
        "collapsed": true
      },
      "cell_type": "code",
      "source": "coeffs = pd.DataFrame(list(zip(X.columns, benchmark_model.steps[1][1].coef_)), columns=['Predictors', 'Coefficients'])\n\ncoeffs.sort_values(by='Coefficients', ascending=False)",
      "execution_count": null,
      "outputs": []
    },
    {
      "metadata": {
        "trusted": true,
        "collapsed": true,
        "_uuid": "1129dde7a59a2183db2647518c3b740fbe2aa1a1"
      },
      "cell_type": "code",
      "source": "from sklearn.linear_model import RidgeCV\n\ndef ridge_selector(k):\n    ridge_model = make_pipeline(RobustScaler(),\n                                RidgeCV(alphas = [k],\n                                        cv=kfolds)).fit(X, y)\n    \n    ridge_rmse = cv_rmse(ridge_model).mean()\n    return(ridge_rmse)",
      "execution_count": null,
      "outputs": []
    },
    {
      "metadata": {
        "trusted": true,
        "collapsed": true,
        "_uuid": "ed42db15a2c13299dff849a52245da1677d4a404"
      },
      "cell_type": "code",
      "source": "r_alphas = [.0001, .0003, .0005, .0007, .0009, \n          .01, 0.05, 0.1, 0.3, 1, 3, 5, 10, 15, 20, 30, 50, 60, 70, 80]\n\nridge_scores = []\nfor alpha in r_alphas:\n    score = ridge_selector(alpha)\n    ridge_scores.append(score)",
      "execution_count": null,
      "outputs": []
    },
    {
      "metadata": {
        "trusted": true,
        "_uuid": "edfc2247cbad8c5cfa1961dc893ec0da95226413",
        "collapsed": true
      },
      "cell_type": "code",
      "source": "plt.plot(r_alphas, ridge_scores, label='Ridge')\nplt.legend('center')\nplt.xlabel('alpha')\nplt.ylabel('score')\n\nridge_score_table = pd.DataFrame(ridge_scores, r_alphas, columns=['RMSE'])\nridge_score_table",
      "execution_count": null,
      "outputs": []
    },
    {
      "metadata": {
        "trusted": true,
        "_uuid": "bba1e0fed2f00723a29d50677a9eb754b72abc6c",
        "collapsed": true
      },
      "cell_type": "code",
      "source": "alphas_alt = [14.5, 14.6, 14.7, 14.8, 14.9, 15, 15.1, 15.2, 15.3, 15.4, 15.5]\n\nridge_model2 = make_pipeline(RobustScaler(),\n                            RidgeCV(alphas = alphas_alt,\n                                    cv=kfolds)).fit(X, y)\n\ncv_rmse(ridge_model2).mean()",
      "execution_count": null,
      "outputs": []
    },
    {
      "metadata": {
        "trusted": true,
        "_uuid": "b1141e07b845f66697a30361676f6da87f6a6e55",
        "collapsed": true
      },
      "cell_type": "code",
      "source": "ridge_model2.steps[1][1].alpha_",
      "execution_count": null,
      "outputs": []
    },
    {
      "metadata": {
        "trusted": true,
        "collapsed": true,
        "_uuid": "2c25946002dadcc587f15523c3e1fdc35d6d5fb9"
      },
      "cell_type": "code",
      "source": "from sklearn.linear_model import LassoCV\n\n\nalphas = [0.00005, 0.0001, 0.0003, 0.0005, 0.0007, \n          0.0009, 0.01]\nalphas2 = [0.00005, 0.0001, 0.0002, 0.0003, 0.0004, 0.0005,\n           0.0006, 0.0007, 0.0008]\n\n\nlasso_model2 = make_pipeline(RobustScaler(),\n                             LassoCV(max_iter=1e7,\n                                    alphas = alphas2,\n                                    random_state = 42)).fit(X, y)",
      "execution_count": null,
      "outputs": []
    },
    {
      "metadata": {
        "trusted": true,
        "_uuid": "2d8300956690aa04223293199acedd6166b672db",
        "collapsed": true
      },
      "cell_type": "code",
      "source": "scores = lasso_model2.steps[1][1].mse_path_\n\nplt.plot(alphas2, scores, label='Lasso')\nplt.legend(loc='center')\nplt.xlabel('alpha')\nplt.ylabel('RMSE')\nplt.tight_layout()\nplt.show()",
      "execution_count": null,
      "outputs": []
    },
    {
      "metadata": {
        "trusted": true,
        "_uuid": "a80b62eccf9674fca182988c1340805a372b9ab4",
        "collapsed": true
      },
      "cell_type": "code",
      "source": "lasso_model2.steps[1][1].alpha_",
      "execution_count": null,
      "outputs": []
    },
    {
      "metadata": {
        "trusted": true,
        "_uuid": "e4861ef13dfe412feb177aa8fb0d535741530ac8",
        "collapsed": true
      },
      "cell_type": "code",
      "source": "cv_rmse(lasso_model2).mean()",
      "execution_count": null,
      "outputs": []
    },
    {
      "metadata": {
        "trusted": true,
        "collapsed": true,
        "_uuid": "644f9c3c3f076e0b5fc2584185236762c0ee0b4b"
      },
      "cell_type": "code",
      "source": "coeffs = pd.DataFrame(list(zip(X.columns, lasso_model2.steps[1][1].coef_)), columns=['Predictors', 'Coefficients'])",
      "execution_count": null,
      "outputs": []
    },
    {
      "metadata": {
        "trusted": true,
        "_uuid": "36cf5fc6f9b810fe56de6b6c3381e67d0ffe5fd5",
        "collapsed": true
      },
      "cell_type": "code",
      "source": "used_coeffs = coeffs[coeffs['Coefficients'] != 0].sort_values(by='Coefficients', ascending=False)\nprint(used_coeffs.shape)\nprint(used_coeffs)",
      "execution_count": null,
      "outputs": []
    },
    {
      "metadata": {
        "trusted": true,
        "_uuid": "4510e99133016e26eaf43964f628035f0196fffe",
        "collapsed": true
      },
      "cell_type": "code",
      "source": "used_coeffs_values = X[used_coeffs['Predictors']]\nused_coeffs_values.shape",
      "execution_count": null,
      "outputs": []
    },
    {
      "metadata": {
        "trusted": true,
        "_uuid": "f7dd81b72ea54ea0870916a99725e5f5e474822f",
        "collapsed": true
      },
      "cell_type": "code",
      "source": "overfit_test2 = []\nfor i in used_coeffs_values.columns:\n    counts2 = used_coeffs_values[i].value_counts()\n    zeros2 = counts2.iloc[0]\n    if zeros2 / len(used_coeffs_values) * 100 > 99.5:\n        overfit_test2.append(i)\n        \noverfit_test2",
      "execution_count": null,
      "outputs": []
    },
    {
      "metadata": {
        "trusted": true,
        "collapsed": true,
        "_uuid": "b8308963987c45fb367603e9e169a86954db835d"
      },
      "cell_type": "code",
      "source": "from sklearn.linear_model import ElasticNetCV\n\ne_alphas = [0.0001, 0.0002, 0.0003, 0.0004, 0.0005, 0.0006, 0.0007]\ne_l1ratio = [0.8, 0.85, 0.9, 0.95, 0.99, 1]\n\nelastic_cv = make_pipeline(RobustScaler(), \n                           ElasticNetCV(max_iter=1e7, alphas=e_alphas, \n                                        cv=kfolds, l1_ratio=e_l1ratio))\n\nelastic_model3 = elastic_cv.fit(X, y)",
      "execution_count": null,
      "outputs": []
    },
    {
      "metadata": {
        "trusted": true,
        "_uuid": "d120429641c17ac21db5b4cc76770451d49efb65",
        "collapsed": true
      },
      "cell_type": "code",
      "source": "cv_rmse(elastic_model3).mean()",
      "execution_count": null,
      "outputs": []
    },
    {
      "metadata": {
        "trusted": true,
        "_uuid": "fa481c47cc6e11cd8ff06ba1598358fa2669f8fe",
        "collapsed": true
      },
      "cell_type": "code",
      "source": "print(elastic_model3.steps[1][1].l1_ratio_)\nprint(elastic_model3.steps[1][1].alpha_)",
      "execution_count": null,
      "outputs": []
    },
    {
      "metadata": {
        "trusted": true,
        "collapsed": true,
        "_uuid": "d2da57332ea298c865faf08a9fd148e43d31372c"
      },
      "cell_type": "code",
      "source": "from sklearn.model_selection import GridSearchCV\nfrom matplotlib.pylab import rcParams\nrcParams['figure.figsize'] = 12, 4\n%matplotlib inline\nimport xgboost as xgb\nfrom xgboost import XGBRegressor",
      "execution_count": null,
      "outputs": []
    },
    {
      "metadata": {
        "trusted": true,
        "collapsed": true,
        "_uuid": "eb07ef351009364d330e90bfc3f406963c2b1124"
      },
      "cell_type": "code",
      "source": "from sklearn.metrics import mean_squared_error\n\ndef modelfit(alg, dtrain, target, useTrainCV=True, \n             cv_folds=5, early_stopping_rounds=50):\n    \n    if useTrainCV:\n        xgb_param = alg.get_xgb_params()\n        xgtrain = xgb.DMatrix(dtrain.values, \n                              label=y.values)\n        \n        print(\"\\nGetting Cross-validation result..\")\n        cvresult = xgb.cv(xgb_param, xgtrain, \n                          num_boost_round=alg.get_params()['n_estimators'], \n                          nfold=cv_folds,metrics='rmse', \n                          early_stopping_rounds=early_stopping_rounds,\n                          verbose_eval = True)\n        alg.set_params(n_estimators=cvresult.shape[0])\n    \n    #Fit the algorithm on the data\n    print(\"\\nFitting algorithm to data...\")\n    alg.fit(dtrain, target, eval_metric='rmse')\n        \n    #Predict training set:\n    print(\"\\nPredicting from training data...\")\n    dtrain_predictions = alg.predict(dtrain)\n        \n    #Print model report:\n    print(\"\\nModel Report\")\n    print(\"RMSE : %.4g\" % np.sqrt(mean_squared_error(target.values,\n                                             dtrain_predictions)))",
      "execution_count": null,
      "outputs": []
    },
    {
      "metadata": {
        "trusted": true,
        "collapsed": true,
        "_uuid": "bf5e92a97e8445994b962287a4e2015033e7572e"
      },
      "cell_type": "code",
      "source": "xgb3 = XGBRegressor(learning_rate =0.01, n_estimators=3460, max_depth=3,\n                     min_child_weight=0 ,gamma=0, subsample=0.7,\n                     colsample_bytree=0.7,objective= 'reg:linear',\n                     nthread=4,scale_pos_weight=1,seed=27, reg_alpha=0.00006)\n\nxgb_fit = xgb3.fit(X, y)",
      "execution_count": null,
      "outputs": []
    },
    {
      "metadata": {
        "trusted": true,
        "collapsed": true,
        "_uuid": "e1e1b7406b4310c42f4ae139d1a2a710464afc37"
      },
      "cell_type": "code",
      "source": "from sklearn import svm\nsvr_opt = svm.SVR(C = 100000, gamma = 1e-08)\n\nsvr_fit = svr_opt.fit(X, y)",
      "execution_count": null,
      "outputs": []
    },
    {
      "metadata": {
        "trusted": true,
        "collapsed": true,
        "_uuid": "2fe7eb0418a9a507021b180fea359a805f3cb54a"
      },
      "cell_type": "code",
      "source": "from lightgbm import LGBMRegressor\n\nlgbm_model = LGBMRegressor(objective='regression',num_leaves=5,\n                              learning_rate=0.05, n_estimators=720,\n                              max_bin = 55, bagging_fraction = 0.8,\n                              bagging_freq = 5, feature_fraction = 0.2319,\n                              feature_fraction_seed=9, bagging_seed=9,\n                              min_data_in_leaf =6, min_sum_hessian_in_leaf = 11)",
      "execution_count": null,
      "outputs": []
    },
    {
      "metadata": {
        "trusted": true,
        "_uuid": "2bc6f33ffa58a84a8df1771e105427904ede5ce5",
        "collapsed": true
      },
      "cell_type": "code",
      "source": "cv_rmse(lgbm_model).mean()",
      "execution_count": null,
      "outputs": []
    },
    {
      "metadata": {
        "trusted": true,
        "collapsed": true,
        "_uuid": "de8aeee499c17500200d5f16607ca0b92f103b7b"
      },
      "cell_type": "code",
      "source": "lgbm_fit = lgbm_model.fit(X, y)",
      "execution_count": null,
      "outputs": []
    },
    {
      "metadata": {
        "trusted": true,
        "_uuid": "de9c1182f5638ca21bedf80e237c48acadef5d4f",
        "collapsed": true
      },
      "cell_type": "code",
      "source": "from IPython.display import Image\nfrom IPython.core.display import HTML \nImage(url = \"http://i.imgur.com/QBuDOjs.jpg\")",
      "execution_count": null,
      "outputs": []
    },
    {
      "metadata": {
        "trusted": true,
        "collapsed": true,
        "_uuid": "33331f5bdc7530c65c8491bfc70d95bc7abb792e"
      },
      "cell_type": "code",
      "source": "from mlxtend.regressor import StackingCVRegressor\nfrom sklearn.pipeline import make_pipeline\n\n#setup models\nridge = make_pipeline(RobustScaler(), \n                      RidgeCV(alphas = alphas_alt, cv=kfolds))\n\nlasso = make_pipeline(RobustScaler(),\n                      LassoCV(max_iter=1e7, alphas = alphas2,\n                              random_state = 42, cv=kfolds))\n\nelasticnet = make_pipeline(RobustScaler(), \n                           ElasticNetCV(max_iter=1e7, alphas=e_alphas, \n                                        cv=kfolds, l1_ratio=e_l1ratio))\n\nlightgbm = make_pipeline(RobustScaler(),\n                        LGBMRegressor(objective='regression',num_leaves=5,\n                                      learning_rate=0.05, n_estimators=720,\n                                      max_bin = 55, bagging_fraction = 0.8,\n                                      bagging_freq = 5, feature_fraction = 0.2319,\n                                      feature_fraction_seed=9, bagging_seed=9,\n                                      min_data_in_leaf =6, \n                                      min_sum_hessian_in_leaf = 11))\n\nxgboost = make_pipeline(RobustScaler(),\n                        XGBRegressor(learning_rate =0.01, n_estimators=3460, \n                                     max_depth=3,min_child_weight=0 ,\n                                     gamma=0, subsample=0.7,\n                                     colsample_bytree=0.7,\n                                     objective= 'reg:linear',nthread=4,\n                                     scale_pos_weight=1,seed=27, \n                                     reg_alpha=0.00006))\n\n\n#stack\nstack_gen = StackingCVRegressor(regressors=(ridge, lasso, elasticnet, \n                                            xgboost, lightgbm), \n                               meta_regressor=xgboost,\n                               use_features_in_secondary=True)\n\n#prepare dataframes\nstackX = np.array(X)\nstacky = np.array(y)",
      "execution_count": null,
      "outputs": []
    },
    {
      "metadata": {
        "trusted": true,
        "_uuid": "002be22e794a02d60614a12f377b670000e0ce1c",
        "collapsed": true
      },
      "cell_type": "code",
      "source": "#scoring \n\n# print(\"cross validated scores\")\n\n# for model, label in zip([ridge, lasso, elasticnet, xgboost, lightgbm, stack_gen],\n#                      ['RidgeCV', 'LassoCV', 'ElasticNetCV', 'xgboost', 'lightgbm',\n#                       'StackingCVRegressor']):\n    \n#     SG_scores = cross_val_score(model, stackX, stacky, cv=kfolds,\n#                                scoring='neg_mean_squared_error')\n#     print(\"RMSE\", np.sqrt(-SG_scores.mean()), \"SD\", scores.std(), label)",
      "execution_count": null,
      "outputs": []
    },
    {
      "metadata": {
        "trusted": true,
        "collapsed": true,
        "_uuid": "2eaafdd70a618599646d21e38914b880120fe100"
      },
      "cell_type": "code",
      "source": "stack_gen_model = stack_gen.fit(stackX, stacky)",
      "execution_count": null,
      "outputs": []
    },
    {
      "metadata": {
        "trusted": true,
        "collapsed": true,
        "_uuid": "8888eb63338dab96038104e98d169823d275bd17"
      },
      "cell_type": "code",
      "source": "em_preds = elastic_model3.predict(testing_features)\nlasso_preds = lasso_model2.predict(testing_features)\nridge_preds = ridge_model2.predict(testing_features)\nstack_gen_preds = stack_gen_model.predict(testing_features)\nxgb_preds = xgb_fit.predict(testing_features)\nsvr_preds = svr_fit.predict(testing_features)\nlgbm_preds = lgbm_fit.predict(testing_features)",
      "execution_count": null,
      "outputs": []
    },
    {
      "metadata": {
        "trusted": true,
        "collapsed": true,
        "_uuid": "350e55b283a54e1fb4c405ff86d6f45653ecac11"
      },
      "cell_type": "code",
      "source": "stack_preds = ((0.2*em_preds) + (0.1*lasso_preds) + (0.1*ridge_preds) + \n               (0.2*xgb_preds) + (0.1*lgbm_preds) + (0.3*stack_gen_preds))",
      "execution_count": null,
      "outputs": []
    },
    {
      "metadata": {
        "trusted": true,
        "collapsed": true,
        "_uuid": "1f9a6ba9df993fe338013914a9c29cacb6722e22"
      },
      "cell_type": "code",
      "source": "submission = pd.read_csv(\"../input/sample_submission.csv\")",
      "execution_count": null,
      "outputs": []
    },
    {
      "metadata": {
        "trusted": true,
        "collapsed": true,
        "_uuid": "4066065b30c59c20d72c1a175ff58b3f44057592"
      },
      "cell_type": "code",
      "source": "submission.iloc[:,1] = np.expm1(stack_preds)",
      "execution_count": null,
      "outputs": []
    },
    {
      "metadata": {
        "trusted": true,
        "collapsed": true,
        "_uuid": "8bbbd7f356109d8833ec3bbbe4fa7c7b34604b39"
      },
      "cell_type": "code",
      "source": "submission.to_csv(\"final_submission.csv\", index=False)",
      "execution_count": null,
      "outputs": []
    },
    {
      "metadata": {
        "trusted": true,
        "collapsed": true,
        "_uuid": "e8006434b7075dfbf804efb072329f93496d6b1b"
      },
      "cell_type": "code",
      "source": "",
      "execution_count": null,
      "outputs": []
    }
  ],
  "metadata": {
    "kernelspec": {
      "display_name": "Python 3",
      "language": "python",
      "name": "python3"
    },
    "language_info": {
      "name": "python",
      "version": "3.6.4",
      "mimetype": "text/x-python",
      "codemirror_mode": {
        "name": "ipython",
        "version": 3
      },
      "pygments_lexer": "ipython3",
      "nbconvert_exporter": "python",
      "file_extension": ".py"
    }
  },
  "nbformat": 4,
  "nbformat_minor": 1
}