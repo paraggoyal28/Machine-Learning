{
 "cells": [
  {
   "cell_type": "code",
   "execution_count": 1,
   "metadata": {},
   "outputs": [
    {
     "ename": "ModuleNotFoundError",
     "evalue": "No module named 'mpl_finance'",
     "output_type": "error",
     "traceback": [
      "\u001b[0;31m---------------------------------------------------------------------------\u001b[0m",
      "\u001b[0;31mModuleNotFoundError\u001b[0m                       Traceback (most recent call last)",
      "\u001b[0;32m<ipython-input-1-b1775ba0a4bf>\u001b[0m in \u001b[0;36m<module>\u001b[0;34m\u001b[0m\n\u001b[1;32m      4\u001b[0m \u001b[0;32mimport\u001b[0m \u001b[0mmatplotlib\u001b[0m\u001b[0;34m.\u001b[0m\u001b[0mdates\u001b[0m \u001b[0;32mas\u001b[0m \u001b[0mmdates\u001b[0m\u001b[0;34m\u001b[0m\u001b[0m\n\u001b[1;32m      5\u001b[0m \u001b[0;32mimport\u001b[0m \u001b[0mmatplotlib\u001b[0m\u001b[0;34m.\u001b[0m\u001b[0mticker\u001b[0m \u001b[0;32mas\u001b[0m \u001b[0mmticker\u001b[0m\u001b[0;34m\u001b[0m\u001b[0m\n\u001b[0;32m----> 6\u001b[0;31m \u001b[0;32mfrom\u001b[0m \u001b[0mmpl_finance\u001b[0m \u001b[0;32mimport\u001b[0m \u001b[0mcandlestick2_ohlc\u001b[0m\u001b[0;34m\u001b[0m\u001b[0m\n\u001b[0m\u001b[1;32m      7\u001b[0m \u001b[0;32mimport\u001b[0m \u001b[0mdatetime\u001b[0m \u001b[0;32mas\u001b[0m \u001b[0mdt\u001b[0m\u001b[0;34m\u001b[0m\u001b[0m\n",
      "\u001b[0;31mModuleNotFoundError\u001b[0m: No module named 'mpl_finance'"
     ]
    }
   ],
   "source": [
    "import matplotlib.pyplot as plt\n",
    "import numpy as np\n",
    "import urllib\n",
    "import matplotlib.dates as mdates\n",
    "import matplotlib.ticker as mticker\n",
    "from mpl_finance import candlestick2_ohlc\n",
    "import datetime as dt"
   ]
  },
  {
   "cell_type": "code",
   "execution_count": 174,
   "metadata": {},
   "outputs": [],
   "source": [
    "def bytespdate2num(fmt, encoding='utf-8'):\n",
    "    strconverter = mdates.strpdate2num(fmt)\n",
    "    def bytesconverter(b):\n",
    "        s = b.decode(encoding)\n",
    "        return strconverter(s)\n",
    "    return bytesconverter\n",
    "\n",
    "def graph_data(stock):\n",
    "    \n",
    "    stock_price_url = 'https://pythonprogramming.net/yahoo_finance_replacement'\n",
    "    source_code = urllib.request.urlopen(stock_price_url).read().decode()\n",
    "    stock_data = []\n",
    "    split_source = source_code.split('\\n')\n",
    "    for line in split_source[1:]:\n",
    "        split_line = line.split(',')\n",
    "        if len(split_line) == 7:\n",
    "            if 'values' not in line and 'labels' not in line:\n",
    "                stock_data.append(line)\n",
    "    date, closep, highp, lowp, openp, adj_closep, volume = np.loadtxt(stock_data,\n",
    "                                                          delimiter=',',\n",
    "                                                          unpack=True,\n",
    "                                                          converters={0: bytespdate2num('%Y-%m-%d')})\n",
    "\n",
    "                \n",
    "        \n",
    "    #handling unix time\n",
    "#     date, closep, highp, lowp, openp, adj_closep, volume = np.loadtxt(stock_data,\n",
    "#                                                           delimiter=',',\n",
    "#                                                           unpack=True)\n",
    "#     dataconv = np.vectorize(dt.datatime.fromtimestamp)\n",
    "#     date = dataconv(date)\n",
    "    \n",
    "    \n",
    "\n",
    "\n",
    "    return date, closep\n"
   ]
  },
  {
   "cell_type": "code",
   "execution_count": null,
   "metadata": {},
   "outputs": [],
   "source": [
    "#     plt.plot_date(date, closep,'-', label='Price')\n",
    " \n",
    "#     plt.xlabel('Date')\n",
    "#     plt.ylabel('Price')\n",
    "#     plt.title('Interesting Graph\\nCheck it out')\n",
    "#     plt.legend()\n",
    "#     plt.show()\n"
   ]
  },
  {
   "cell_type": "code",
   "execution_count": 190,
   "metadata": {},
   "outputs": [
    {
     "data": {
      "image/png": "[encoded data removed]",
      "text/plain": [
       "<Figure size 432x288 with 1 Axes>"
      ]
     },
     "metadata": {},
     "output_type": "display_data"
    }
   ],
   "source": [
    "date, closep = graph_data('TSLA')\n",
    "\n",
    "fig = plt.figure()\n",
    "ax1 = plt.subplot2grid((1,1),(0,0))  # shape of grid , starting point of graph\n",
    "\n",
    "\n",
    "ax1.plot_date(date, closep, '-', label='Price')\n",
    "ax1.plot([],[], color='g', label=\"Gain\", linewidth=5, alpha=0.5)\n",
    "ax1.plot([],[], color='r', label=\"Loss\", linewidth=5, alpha=0.5)\n",
    "\n",
    "ax1.axhline(closep[0], color='k', linewidth=2)  #horizontal line at closep[0] value\n",
    "\n",
    "ax1.fill_between(date, closep, closep[0], where=(closep > closep[0]), facecolor='g',alpha=0.3) #fill color, 3rd aurg\n",
    "                                                                #for base point, condition, color alpha for opacity\n",
    "\n",
    "ax1.fill_between(date, closep, closep[0], where=(closep < closep[0]), facecolor='r',alpha=0.3)\n",
    "    \n",
    "for label in ax1.xaxis.get_ticklabels():\n",
    "    label.set_rotation(60)   #label rotate x axis\n",
    "    \n",
    "ax1.grid(True , color='g', linewidth=0.5)  #grid costumization\n",
    "\n",
    "# ax1.xaxis.label.set_color('r')# set label color\n",
    "# ax1.yaxis.label.set_color('b')\n",
    "\n",
    "ax1.spines['left'].set_color('y')         # set spine color and width\n",
    "ax1.spines['left'].set_linewidth(2)\n",
    "ax1.spines['top'].set_color('#545468')\n",
    "ax1.spines['top'].set_linewidth(2)\n",
    "\n",
    "ax1.tick_params(axis='x', colors=\"#054215\")  # x axis values color\n",
    "\n",
    "plt.xlabel('Date')\n",
    "plt.ylabel('Price')\n",
    "plt.title('Interesting Graph')\n",
    "plt.legend()\n",
    "plt.subplots_adjust(left=0.09, bottom=.2,right=.9,top=.9, wspace=1)  #set subplot size\n",
    "plt.show()"
   ]
  },
  {
   "cell_type": "code",
   "execution_count": null,
   "metadata": {},
   "outputs": [],
   "source": []
  }
 ],
 "metadata": {
  "kernelspec": {
   "display_name": "Python 3",
   "language": "python",
   "name": "python3"
  },
  "language_info": {
   "codemirror_mode": {
    "name": "ipython",
    "version": 3
   },
   "file_extension": ".py",
   "mimetype": "text/x-python",
   "name": "python",
   "nbconvert_exporter": "python",
   "pygments_lexer": "ipython3",
   "version": "3.6.5"
  }
 },
 "nbformat": 4,
 "nbformat_minor": 2
}
