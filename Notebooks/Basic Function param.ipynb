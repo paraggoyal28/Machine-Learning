{
 "cells": [
  {
   "cell_type": "code",
   "execution_count": 1,
   "metadata": {},
   "outputs": [],
   "source": [
    "def prime(x):\n",
    "    return 2*x"
   ]
  },
  {
   "cell_type": "code",
   "execution_count": 2,
   "metadata": {},
   "outputs": [
    {
     "data": {
      "text/plain": [
       "10"
      ]
     },
     "execution_count": 2,
     "metadata": {},
     "output_type": "execute_result"
    }
   ],
   "source": [
    "prime(5)"
   ]
  },
  {
   "cell_type": "code",
   "execution_count": 5,
   "metadata": {},
   "outputs": [],
   "source": [
    "import numpy as nm"
   ]
  },
  {
   "cell_type": "code",
   "execution_count": 6,
   "metadata": {},
   "outputs": [
    {
     "data": {
      "text/plain": [
       "5"
      ]
     },
     "execution_count": 6,
     "metadata": {},
     "output_type": "execute_result"
    }
   ],
   "source": [
    "nm.add(2,3)"
   ]
  },
  {
   "cell_type": "code",
   "execution_count": 9,
   "metadata": {},
   "outputs": [
    {
     "data": {
      "text/plain": [
       "'111'"
      ]
     },
     "execution_count": 9,
     "metadata": {},
     "output_type": "execute_result"
    }
   ],
   "source": [
    "nm.binary_repr(7)"
   ]
  },
  {
   "cell_type": "code",
   "execution_count": 10,
   "metadata": {},
   "outputs": [
    {
     "data": {
      "text/plain": [
       "78"
      ]
     },
     "execution_count": 10,
     "metadata": {},
     "output_type": "execute_result"
    }
   ],
   "source": [
    "nm.add(53,25)"
   ]
  },
  {
   "cell_type": "code",
   "execution_count": 35,
   "metadata": {},
   "outputs": [],
   "source": [
    "def NN(m1, m2, w1, w2, b):\n",
    "    z = w1+w2+m1+m2+b\n",
    "    return sigmoid(z)\n",
    "def sigmoid(x):\n",
    "    return 1/(1+nm.exp(-x))"
   ]
  },
  {
   "cell_type": "code",
   "execution_count": 36,
   "metadata": {},
   "outputs": [],
   "source": [
    "w1 = nm.random.randn()\n",
    "w2 = nm.random.randn()\n",
    "b = nm.random.randn()"
   ]
  },
  {
   "cell_type": "code",
   "execution_count": 37,
   "metadata": {},
   "outputs": [
    {
     "data": {
      "text/plain": [
       "0.229037402279751"
      ]
     },
     "execution_count": 37,
     "metadata": {},
     "output_type": "execute_result"
    }
   ],
   "source": [
    "w1"
   ]
  },
  {
   "cell_type": "code",
   "execution_count": 38,
   "metadata": {},
   "outputs": [
    {
     "data": {
      "text/plain": [
       "0.998412697957096"
      ]
     },
     "execution_count": 38,
     "metadata": {},
     "output_type": "execute_result"
    }
   ],
   "source": [
    "NN(2,1,w1,w2,b)"
   ]
  },
  {
   "cell_type": "code",
   "execution_count": 39,
   "metadata": {},
   "outputs": [
    {
     "data": {
      "text/plain": [
       "0"
      ]
     },
     "execution_count": 39,
     "metadata": {},
     "output_type": "execute_result"
    }
   ],
   "source": [
    "# slope method\n",
    "def cost(b):\n",
    "    return (b-4)**2  \n",
    "cost(4)"
   ]
  },
  {
   "cell_type": "code",
   "execution_count": 41,
   "metadata": {},
   "outputs": [],
   "source": [
    "def num_slope(b):\n",
    "    h = .001\n",
    "    return (cost(b+h) - cost(b))/h\n",
    "def slope(b):\n",
    "    return 2*(b-6)\n"
   ]
  },
  {
   "cell_type": "code",
   "execution_count": 42,
   "metadata": {},
   "outputs": [
    {
     "name": "stdout",
     "output_type": "stream",
     "text": [
      "3.901105234569881\n",
      "4.3208841876559045\n",
      "4.656707350124724\n",
      "4.925365880099779\n",
      "5.140292704079823\n",
      "5.3122341632638586\n",
      "5.449787330611087\n",
      "5.5598298644888695\n",
      "5.647863891591095\n",
      "5.718291113272876\n",
      "5.774632890618301\n",
      "5.819706312494641\n",
      "5.855765049995712\n",
      "5.88461203999657\n",
      "5.907689631997256\n",
      "5.926151705597805\n",
      "5.940921364478244\n",
      "5.952737091582596\n",
      "5.962189673266076\n",
      "5.969751738612861\n",
      "5.975801390890289\n",
      "5.980641112712231\n",
      "5.984512890169785\n",
      "5.9876103121358275\n",
      "5.990088249708662\n",
      "5.9920705997669295\n",
      "5.993656479813543\n",
      "5.994925183850834\n",
      "5.995940147080668\n",
      "5.996752117664534\n",
      "5.997401694131627\n",
      "5.9979213553053015\n",
      "5.998337084244241\n",
      "5.998669667395393\n",
      "5.998935733916314\n",
      "5.999148587133051\n",
      "5.999318869706441\n",
      "5.9994550957651525\n",
      "5.999564076612122\n",
      "5.9996512612896975\n",
      "5.999721009031758\n",
      "5.999776807225406\n",
      "5.999821445780325\n",
      "5.999857156624261\n",
      "5.999885725299409\n",
      "5.999908580239527\n",
      "5.999926864191622\n",
      "5.999941491353297\n",
      "5.9999531930826375\n",
      "5.99996255446611\n"
     ]
    }
   ],
   "source": [
    "for i in range(50):\n",
    "    b = b-.1*slope(b)\n",
    "    print(b)"
   ]
  },
  {
   "cell_type": "code",
   "execution_count": null,
   "metadata": {},
   "outputs": [],
   "source": []
  }
 ],
 "metadata": {
  "kernelspec": {
   "display_name": "Python 3",
   "language": "python",
   "name": "python3"
  },
  "language_info": {
   "codemirror_mode": {
    "name": "ipython",
    "version": 3
   },
   "file_extension": ".py",
   "mimetype": "text/x-python",
   "name": "python",
   "nbconvert_exporter": "python",
   "pygments_lexer": "ipython3",
   "version": "3.6.5"
  }
 },
 "nbformat": 4,
 "nbformat_minor": 2
}
