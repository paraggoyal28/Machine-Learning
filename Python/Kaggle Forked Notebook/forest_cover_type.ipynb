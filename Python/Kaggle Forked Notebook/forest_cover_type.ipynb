{
  "cells": [
    {
      "metadata": {
        "_cell_guid": "d86ac6e4-d4f7-abb5-db65-4e192715afd9",
        "_uuid": "8ee330e2dbe1dc92b33275cc4a9a26e98b32da04"
      },
      "cell_type": "markdown",
      "source": "## PART I (Being a newbie would love to have your suggestions on improving it)\nLink to PART II <https://www.kaggle.com/nitin007/forest-cover-type-prediction/forest-cover-type-prediction-complete-part-ii/>"
    },
    {
      "metadata": {
        "_cell_guid": "87d4f359-510c-fb86-eab9-a53e1df7a871",
        "_uuid": "b95827f14ba43f7af774ea3d80683b5c6a35ec7a",
        "trusted": false
      },
      "cell_type": "code",
      "source": "# Common libraries\n\nimport numpy as np\nimport pandas as pd\nimport matplotlib.pyplot as plt\nimport seaborn as sns\n%matplotlib inline\n\n# Restrict minor warnings\nimport warnings\nwarnings.filterwarnings('ignore')",
      "execution_count": null,
      "outputs": []
    },
    {
      "metadata": {
        "_cell_guid": "fe1ed031-2129-ba67-c87d-18aeae0e07a5",
        "_uuid": "545c3c6ab0940499b8dedb1aa092e6223fa92b15",
        "trusted": false
      },
      "cell_type": "code",
      "source": "# Import test and train data\ndf_train = pd.read_csv('../input/train.csv')\ndf_Test = pd.read_csv('../input/test.csv')\ndf_test = df_Test",
      "execution_count": null,
      "outputs": []
    },
    {
      "metadata": {
        "_cell_guid": "9cc30d5e-3f97-e960-5047-340c98023f9c",
        "_uuid": "c984e4b5b31f863c43d746a854dbbb3d66c4bc6e",
        "trusted": false
      },
      "cell_type": "code",
      "source": "# First 5 data points\ndf_train.head()",
      "execution_count": null,
      "outputs": []
    },
    {
      "metadata": {
        "_cell_guid": "d4ada6ac-a17a-cd8d-3a5c-5de355fce1ca",
        "_uuid": "15184729427b183ac2408c74be0cabb8dde446d2",
        "trusted": false
      },
      "cell_type": "code",
      "source": "# Datatypes of the attributes\ndf_train.dtypes",
      "execution_count": null,
      "outputs": []
    },
    {
      "metadata": {
        "_cell_guid": "01675a33-828a-9fab-cb33-4ef1c65db196",
        "_uuid": "8533edad9e7341cd33b5452e3b7eb3550c8e9825"
      },
      "cell_type": "markdown",
      "source": "No categorical data. All are numerical"
    },
    {
      "metadata": {
        "_cell_guid": "e0637d36-b0ee-3a59-c449-af2da49e8eb9",
        "_uuid": "72d0d70243b946674a975c004cda0bec938892dc",
        "trusted": false
      },
      "cell_type": "code",
      "source": "pd.set_option('display.max_columns', None) # we need to see all the columns\ndf_train.describe()",
      "execution_count": null,
      "outputs": []
    },
    {
      "metadata": {
        "_cell_guid": "69630232-3913-c4b1-ecbf-7d9f744f3955",
        "_uuid": "bae17f27b079fc2024d7ccafb65009b5efdf4826"
      },
      "cell_type": "markdown",
      "source": "## Inferences\n- Count is 15120 for each column, so no data point is missing.\n- Soil type 7 and 15 are constant(each value is zero), so they can be removed.\n- Wilderness_Area and Soil_Type are one hot encoded. Hence, they could be converted back for some analysis.\n- Scales are not the same for all. Hence, rescaling and standardisation may be necessary for some algos."
    },
    {
      "metadata": {
        "_cell_guid": "50a87854-6f54-6b8c-6934-55ffc772eb86",
        "_uuid": "ec6e589ac8ed2c251b5577d109b03aefe0cdcca3"
      },
      "cell_type": "markdown",
      "source": "## Removing Soil_type 7 & 15"
    },
    {
      "metadata": {
        "_cell_guid": "1c8db535-2b3c-04ae-09fe-19c3ccbd9f7d",
        "_uuid": "1f6273c2f228c272e7f5e279e9c0312edf3eefed",
        "trusted": false
      },
      "cell_type": "code",
      "source": "# From both train and test data\ndf_train = df_train.drop(['Soil_Type7', 'Soil_Type15'], axis = 1)\ndf_test = df_test.drop(['Soil_Type7', 'Soil_Type15'], axis = 1)\n\n# Also drop 'Id'\ndf_train = df_train.iloc[:,1:]\ndf_test = df_test.iloc[:,1:]",
      "execution_count": null,
      "outputs": []
    },
    {
      "metadata": {
        "_cell_guid": "0d8ba39a-7e1a-438b-15f7-148169569731",
        "_uuid": "90decb96be0fdd04b48980ff2f286cc4cb457c52"
      },
      "cell_type": "markdown",
      "source": "## Correlation matrix (heatmap)\nCorrelation requires continuous data. Hence, ignore Wilderness_Area and Soil_Type as they are binary values"
    },
    {
      "metadata": {
        "_cell_guid": "891d4c31-6075-e0c1-c9c4-934b34d020f9",
        "_uuid": "cf35253138dcc9f761bd2f8c3d5027d14f66ea89",
        "trusted": false
      },
      "cell_type": "code",
      "source": "size = 10\ncorrmat = df_train.iloc[:,:size].corr()\nf, ax = plt.subplots(figsize = (10,8))\nsns.heatmap(corrmat,vmax=0.8,square=True);",
      "execution_count": null,
      "outputs": []
    },
    {
      "metadata": {
        "_cell_guid": "5ddcd266-2898-5123-6d3a-3447ac2ebc34",
        "_uuid": "57a04114197e94cea9827a53de676d0e8632afd0"
      },
      "cell_type": "markdown",
      "source": "## Correlation values"
    },
    {
      "metadata": {
        "_cell_guid": "e876b122-95ff-b590-771e-7ae0a9461301",
        "_uuid": "0ad6d8174db82e320626f969e14634092fd626fe",
        "trusted": false
      },
      "cell_type": "code",
      "source": "data = df_train.iloc[:,:size]\n\n# Get name of the columns\ncols = data.columns\n\n# Calculate the pearson correlation coefficients for all combinations\ndata_corr = data.corr()\n\n# Threshold ( only highly correlated ones matter)\nthreshold = 0.5\ncorr_list = []",
      "execution_count": null,
      "outputs": []
    },
    {
      "metadata": {
        "_cell_guid": "8cca29c7-7e3d-23e8-e003-2ce4ca8818be",
        "_uuid": "aba3cf984adb71374fe59fb0a0c31812ffdbf94b",
        "trusted": false
      },
      "cell_type": "code",
      "source": "data_corr",
      "execution_count": null,
      "outputs": []
    },
    {
      "metadata": {
        "_cell_guid": "84547fc3-16b9-eee6-27ef-0cca89dfcc11",
        "_uuid": "b6c64c0fb3eb97296a45d8b708bf318ac52fe9ba",
        "trusted": false
      },
      "cell_type": "code",
      "source": "# Sorting out the highly correlated values\nfor i in range(0, size):\n    for j in range(i+1, size):\n        if data_corr.iloc[i,j]>= threshold and data_corr.iloc[i,j]<1\\\n        or data_corr.iloc[i,j] <0 and data_corr.iloc[i,j]<=-threshold:\n            corr_list.append([data_corr.iloc[i,j],i,j])\n        ",
      "execution_count": null,
      "outputs": []
    },
    {
      "metadata": {
        "_cell_guid": "8a518a84-4767-65fb-b929-a28364ede96c",
        "_uuid": "d1e9d78ae50f96bb2846845704e762b923b492cb",
        "trusted": false
      },
      "cell_type": "code",
      "source": "# Sorting the values\ns_corr_list = sorted(corr_list,key= lambda x: -abs(x[0]))\n\n# print the higher values\nfor v,i,j in s_corr_list:\n    print(\"%s and %s = %.2f\" % (cols[i], cols[j], v))",
      "execution_count": null,
      "outputs": []
    },
    {
      "metadata": {
        "_cell_guid": "179356d5-60d7-456b-9f74-4055e22784b7",
        "_uuid": "d70a130ec1cd57f17f2b55eccb228baeae0fdf0d"
      },
      "cell_type": "markdown",
      "source": "## Skewness"
    },
    {
      "metadata": {
        "_cell_guid": "527eabd0-1eec-d87f-57d2-8ef78aa6545c",
        "_uuid": "02793b7b4b175919c5429c8ebdccf9fbed12d09d",
        "trusted": false
      },
      "cell_type": "code",
      "source": "df_train.iloc[:,:10].skew()",
      "execution_count": null,
      "outputs": []
    },
    {
      "metadata": {
        "_cell_guid": "c37b42c0-38be-fce8-6b51-1750d18e4abf",
        "_uuid": "e851b14cc2d847a2c41c11354aff6a37bbe88001"
      },
      "cell_type": "markdown",
      "source": "Presence of skewness can easily be noticed"
    },
    {
      "metadata": {
        "_cell_guid": "9e6d1db4-7ca4-d8a5-ea3c-8f2cf953c2e0",
        "_uuid": "e9dfc228940386b720493d41973c3046b3d48303"
      },
      "cell_type": "markdown",
      "source": "## Data Visualisation"
    },
    {
      "metadata": {
        "_cell_guid": "d85e90e2-4749-7f84-3c2b-c52e20e4a9a6",
        "_uuid": "21bee84bc58db69ea513929f073f9dfa4e60b5aa",
        "trusted": false
      },
      "cell_type": "code",
      "source": "# Pair wise scatter plot with hue being 'Cover_Type'\nfor v,i,j in s_corr_list:\n    sns.pairplot(data = df_train, hue='Cover_Type', size= 6, x_vars=cols[i], y_vars=cols[j])\n    plt.show()\n    ",
      "execution_count": null,
      "outputs": []
    },
    {
      "metadata": {
        "_cell_guid": "7e7e91a2-a9b1-b6f1-7238-d36ca191b588",
        "_uuid": "27f8b4724255fca502e8cf804746374f98e59883"
      },
      "cell_type": "markdown",
      "source": "- Horizontal and vertical distance to hydrology seems to have a linear relation\n- Hillside and Aspect seems to have a sigmoid relation given by: $$\\frac { 1 }{ 1\\quad +\\quad { e }^{ -x } } $$"
    },
    {
      "metadata": {
        "_cell_guid": "55299531-61a8-96a2-b68e-2844c0b0e085",
        "_uuid": "05ef4f1e641a5241cdb70c220f1c5a83220869ed",
        "trusted": false
      },
      "cell_type": "code",
      "source": "# A violin plot is a hybrid of a box plot and a kernel density plot, which shows peaks in the data.\ncols = df_train.columns\nsize = len(cols) - 1 # We don't need the target attribute\n# x-axis has target attributes to distinguish between classes\nx = cols[size]\ny = cols[0:size]\n\nfor i in range(0, size):\n    sns.violinplot(data=df_train, x=x, y=y[i])\n    plt.show()",
      "execution_count": null,
      "outputs": []
    },
    {
      "metadata": {
        "_cell_guid": "51dc7e86-fce3-d96e-b49b-3b3d9f5ec807",
        "_uuid": "bee5a17cbfe7789f2203eba84069918de103a3b5"
      },
      "cell_type": "markdown",
      "source": "- Elevation has a seperate distribution for each class, hence an important attribute for prediction\n- Aspect plot contains couple of normal distribution for several classes\n- Horizontal distance to hydrology and roadways is quite similar\n- Hillshade 9am and 12pm displays left skew (long tail towards left)\n- Wilderness_Area3 gives no class distinction. As values are not present, others give some scope to distinguish\n- Soil_Type, 1,5,8,9,12,14,18-22, 25-30 and 35-40 offer class distinction as values are not present for many classes"
    },
    {
      "metadata": {
        "_cell_guid": "bbec4a77-651c-a09a-6f82-4a3a202b0df1",
        "_uuid": "3b48d75c2fcd423ecb93fa72ef51f5b5288e866b",
        "trusted": false
      },
      "cell_type": "code",
      "source": "df_train.Wilderness_Area2.value_counts()",
      "execution_count": null,
      "outputs": []
    },
    {
      "metadata": {
        "_cell_guid": "3be0978d-9e17-d449-a6b7-6cbe9988e34c",
        "_uuid": "29eeb729d0fb364ce8cae79c6f4809302991d1d9"
      },
      "cell_type": "markdown",
      "source": "Too many zero values means attributes like it shows class distinction"
    },
    {
      "metadata": {
        "_cell_guid": "140da0e7-2cbf-bace-fa3c-012eba5a4f26",
        "_uuid": "e711c74890c01fef603f3173fbdcd172764d68dd",
        "trusted": false
      },
      "cell_type": "code",
      "source": "### Group one-hot encoded variables of a category into one single variable\ncols = df_train.columns\nr,c = df_train.shape\n\n# Create a new dataframe with r rows, one column for each encoded category, and target in the end\nnew_data = pd.DataFrame(index= np.arange(0,r), columns=['Wilderness_Area', 'Soil_Type', 'Cover_Type'])\n\n# Make an entry in data for each r for category_id, target_value\nfor i in range(0,r):\n    p = 0;\n    q = 0;\n    # Category1_range\n    for j in range(10,14):\n        if (df_train.iloc[i,j] == 1):\n            p = j-9 # category_class\n            break\n    # Category2_range\n    for k in range(14,54):\n        if (df_train.iloc[i,k] == 1):\n            q = k-13 # category_class\n            break\n    # Make an entry in data for each r\n    new_data.iloc[i] = [p,q,df_train.iloc[i, c-1]]\n    \n# plot for category1\nsns.countplot(x = 'Wilderness_Area', hue = 'Cover_Type', data = new_data)\nplt.show()\n\n# Plot for category2\nplt.rc(\"figure\", figsize = (25,10))\nsns.countplot(x='Soil_Type', hue = 'Cover_Type', data= new_data)\nplt.show()",
      "execution_count": null,
      "outputs": []
    },
    {
      "metadata": {
        "_cell_guid": "7b233403-41ee-85c4-2277-016d61a7670f",
        "_uuid": "5b964b7662ec8f157b6c0c401e59ca996a98168e"
      },
      "cell_type": "markdown",
      "source": "- Wilderness_Area4 has lot of presence of cover_type 4, good class distinction\n- SoilType 1-6,9-13,15, 20-22, 27-31,35,36-38 offer lot of class distinction as counts for some are very high"
    },
    {
      "metadata": {
        "_cell_guid": "7b3fa9db-6fe7-8164-ba53-671df9a60037",
        "_uuid": "4936151081f368534537e579e6a0a727688cd377"
      },
      "cell_type": "markdown",
      "source": "## Data Preparation\n## Delete rows or impute values in case of missing\n## Check for data transformation\n## Some of the soil_types is present in very few Cover_Types"
    },
    {
      "metadata": {
        "_cell_guid": "31ba100a-d18d-41ae-db7b-0f12e12ee3f8",
        "_uuid": "eddc23649b9e31c6e3c352f95f54b9c180d78b83",
        "trusted": false
      },
      "cell_type": "code",
      "source": "# Checking the value count for different soil_types\nfor i in range(10, df_train.shape[1]-1):\n    j = df_train.columns[i]\n    print (df_train[j].value_counts())",
      "execution_count": null,
      "outputs": []
    },
    {
      "metadata": {
        "_cell_guid": "eaea3937-f2f1-5b2d-aafd-8ca5e2012b6f",
        "_uuid": "88708adcf845b6d7730a240317a0bc7de2659978",
        "trusted": false
      },
      "cell_type": "code",
      "source": "# Let's drop them\ndf_train = df_train.drop(['Soil_Type8', 'Soil_Type25'], axis=1)\ndf_test = df_test.drop(['Soil_Type8', 'Soil_Type25'], axis=1)\ndf_train1 = df_train # To be used for algos like SVM where we need normalization and StandardScaler\ndf_test1 = df_test # To be used under normalization and StandardScaler",
      "execution_count": null,
      "outputs": []
    },
    {
      "metadata": {
        "_cell_guid": "6b3042f4-06ad-369a-4b3e-3a3f47b73e06",
        "_uuid": "d3c38ee82b6a830b031c57ccfa15087f06bd579a"
      },
      "cell_type": "markdown",
      "source": "## Normality\n(Needed only for few ML algorithms like SVM)"
    },
    {
      "metadata": {
        "_cell_guid": "6cf7c727-0d60-b2e2-6b65-3426d60709cc",
        "_uuid": "c05a02dbaff63e93c1defc849337b47d552eab9b",
        "trusted": false
      },
      "cell_type": "code",
      "source": "# Checking for data transformation (take only non-categorical values)\ndf_train.iloc[:,:10].skew()",
      "execution_count": null,
      "outputs": []
    },
    {
      "metadata": {
        "_cell_guid": "b95d2c51-238b-0ff8-ba89-11f2d008db47",
        "_uuid": "a6c51cf2c8bbc7f15e396f0e8b04336e85a65951"
      },
      "cell_type": "markdown",
      "source": "Data transformation needed in: 'Horizontal n vertical distance', 'Hillshade_9am & noon'"
    },
    {
      "metadata": {
        "_cell_guid": "abd0aa2a-1e15-523b-8faa-0941f52a22c3",
        "_uuid": "968af9d7d2e35aaab48cac3924f16f5189916c95",
        "trusted": false
      },
      "cell_type": "code",
      "source": "#Horizontal_Distance_To_Hydrology\nfrom scipy import stats\nplt.figure(figsize=(8,6))\nsns.distplot(df_train1['Horizontal_Distance_To_Hydrology'], fit = stats.norm)\nfig = plt.figure(figsize=(8,6))\nres = stats.probplot(df_train1['Horizontal_Distance_To_Hydrology'], plot=plt)",
      "execution_count": null,
      "outputs": []
    },
    {
      "metadata": {
        "_cell_guid": "13121d60-dde5-2d2e-1c98-598ee8ec0d2b",
        "_uuid": "1e23cff49f9cf0d3f0a9982b272abca46e9d7bc4"
      },
      "cell_type": "markdown",
      "source": "It shows positive skewness (log or squared transformations will be a good option)"
    },
    {
      "metadata": {
        "_cell_guid": "733db818-5abb-34c9-f202-2e78f88d5646",
        "_uuid": "ec3f37e5fcb2fce648f7eb5edd658425c05c4fe6",
        "trusted": false
      },
      "cell_type": "code",
      "source": "df_train1['Horizontal_Distance_To_Hydrology'] = np.sqrt(df_train1['Horizontal_Distance_To_Hydrology'])",
      "execution_count": null,
      "outputs": []
    },
    {
      "metadata": {
        "_cell_guid": "bb6b6154-0ea5-df81-c74f-b083ba194334",
        "_uuid": "c2e97d6a0ffee16b2dc0caa88280c21f5488b239",
        "trusted": false
      },
      "cell_type": "code",
      "source": "# Plot again after sqrt transformation\nplt.figure(figsize=(8,6))\nsns.distplot(df_train1['Horizontal_Distance_To_Hydrology'], fit = stats.norm)\nfig = plt.figure(figsize=(8,6))\nres = stats.probplot(df_train1['Horizontal_Distance_To_Hydrology'], plot=plt)",
      "execution_count": null,
      "outputs": []
    },
    {
      "metadata": {
        "_cell_guid": "4cd80929-f3ec-6b38-8882-d53543aa9827",
        "_uuid": "f361f60b89fc04ed7cf7f55c96332aba3aa1cbf0"
      },
      "cell_type": "markdown",
      "source": "I also performed log transformation but squared one gives better result"
    },
    {
      "metadata": {
        "_cell_guid": "8a9019ff-04f0-f758-5c81-fa4bbd1439ae",
        "_uuid": "1bec46203cbe45828790ab375b74a86e6b10eb5c",
        "trusted": false
      },
      "cell_type": "code",
      "source": "#Vertical_Distance_To_Hydrology\nplt.figure(figsize=(8,6))\nsns.distplot(df_train1['Vertical_Distance_To_Hydrology'], fit = stats.norm)\nfig = plt.figure(figsize=(8,6))\nres = stats.probplot(df_train1['Vertical_Distance_To_Hydrology'], plot=plt)",
      "execution_count": null,
      "outputs": []
    },
    {
      "metadata": {
        "_cell_guid": "17f81c8f-d123-d2bd-2d5e-48dde817bf9b",
        "_uuid": "50993975389cf7eb3613d3f8ce16cc339adfc526"
      },
      "cell_type": "markdown",
      "source": "Shows positive skewness"
    },
    {
      "metadata": {
        "_cell_guid": "080f8e3a-f377-6b21-a17c-80dc14b4e8d8",
        "_uuid": "7104a4081a642eb434fb354b779029e60d87eb6d",
        "trusted": false
      },
      "cell_type": "code",
      "source": "#Horizontal_Distance_To_Roadways\nplt.figure(figsize=(8,6))\nsns.distplot(df_train1['Horizontal_Distance_To_Roadways'], fit=stats.norm)\nfig = plt.figure(figsize=(8,6))\nres = stats.probplot(df_train1['Horizontal_Distance_To_Roadways'], plot=plt)",
      "execution_count": null,
      "outputs": []
    },
    {
      "metadata": {
        "_cell_guid": "666a13a9-ce03-c664-6008-4eaaf258f2fd",
        "_uuid": "0cc3c3df409d3e78df52b3d6dd30847b6bcff22e"
      },
      "cell_type": "markdown",
      "source": "Shows positive skewness"
    },
    {
      "metadata": {
        "_cell_guid": "032194a5-5ff5-38e3-5551-fc696e066871",
        "_uuid": "2396f5bdb70b17974e8c15057bf5843c4f7a4779",
        "trusted": false
      },
      "cell_type": "code",
      "source": "df_train1['Horizontal_Distance_To_Roadways'] = np.sqrt(df_train1['Horizontal_Distance_To_Roadways'])",
      "execution_count": null,
      "outputs": []
    },
    {
      "metadata": {
        "_cell_guid": "1a008ce4-76da-8858-595c-9e154c15f547",
        "_uuid": "28f5fee5080921dd1c08760cfb4c9b38e14b779d",
        "trusted": false
      },
      "cell_type": "code",
      "source": "# Plot again after sqrt transformation\nplt.figure(figsize=(8,6))\nsns.distplot(df_train1['Horizontal_Distance_To_Roadways'], fit = stats.norm)\nfig = plt.figure(figsize=(8,6))\nres = stats.probplot(df_train1['Horizontal_Distance_To_Roadways'], plot=plt)",
      "execution_count": null,
      "outputs": []
    },
    {
      "metadata": {
        "_cell_guid": "dd4d05e6-81b4-8679-5aff-b400e529ebff",
        "_uuid": "37d7d8d7eb4e2fc3311e71af1ceae31f74c13e05"
      },
      "cell_type": "markdown",
      "source": "Reasonable improvement noticed"
    },
    {
      "metadata": {
        "_cell_guid": "60ccff99-3ed0-38a8-7ec2-435c440a3f8e",
        "_uuid": "b18d025dd7b0176948b846ed985411b175c74721",
        "trusted": false
      },
      "cell_type": "code",
      "source": "#Hillshade_9am\nfig = plt.figure(figsize=(8,6))\nsns.distplot(df_train1['Hillshade_9am'],fit=stats.norm)\nfig = plt.figure(figsize=(8,6))\nres = stats.probplot(df_train1['Hillshade_9am'],plot=plt)",
      "execution_count": null,
      "outputs": []
    },
    {
      "metadata": {
        "_cell_guid": "94df6024-81d8-7a29-e482-e78b388b5731",
        "_uuid": "1905b7ed839241a6a932e653e8149bd9e4231053"
      },
      "cell_type": "markdown",
      "source": "Shows negative skewness"
    },
    {
      "metadata": {
        "_cell_guid": "ba18e18d-ab82-73a4-a870-8dfdf93c5c05",
        "_uuid": "3e5cb0bd3cf72505f680c3f55eb782388768c71f",
        "trusted": false
      },
      "cell_type": "code",
      "source": "df_train1['Hillshade_9am'] = np.square(df_train1['Hillshade_9am'])",
      "execution_count": null,
      "outputs": []
    },
    {
      "metadata": {
        "_cell_guid": "020b2693-ff10-32d7-ffeb-c1a8cf103653",
        "_uuid": "a5e06d07089f6f747803a1794610af36d96dc421",
        "trusted": false
      },
      "cell_type": "code",
      "source": "# Plot again after square transformation\nplt.figure(figsize=(8,6))\nsns.distplot(df_train1['Hillshade_9am'], fit = stats.norm)\nfig = plt.figure(figsize=(8,6))\nres = stats.probplot(df_train1['Hillshade_9am'], plot=plt)",
      "execution_count": null,
      "outputs": []
    },
    {
      "metadata": {
        "_cell_guid": "9fd314aa-b828-80a3-a17c-e774128679b6",
        "_uuid": "c401259008931bfb26e2f00759c8ef57fb0f6e9a"
      },
      "cell_type": "markdown",
      "source": "Reasonable improvement seen"
    },
    {
      "metadata": {
        "_cell_guid": "2415baf9-1b37-c894-4d1f-ac93b8589ef6",
        "_uuid": "4cc9967862f57dc0b7bd6995695f2da328f5707a",
        "trusted": false
      },
      "cell_type": "code",
      "source": "# Hillshade_Noon\nfig = plt.figure(figsize=(8,6))\nsns.distplot(df_train1['Hillshade_Noon'],fit=stats.norm)\nfig = plt.figure(figsize=(8,6))\nres = stats.probplot(df_train1['Hillshade_Noon'],plot=plt)",
      "execution_count": null,
      "outputs": []
    },
    {
      "metadata": {
        "_cell_guid": "68314f39-a2c3-229d-cc48-557c229a20c1",
        "_uuid": "2b031aa7b9f0b83cdfa7b56d11a1cf56d0c537e8"
      },
      "cell_type": "markdown",
      "source": "Negative skewness present"
    },
    {
      "metadata": {
        "_cell_guid": "0712f9b3-249a-b27d-532b-80121df6b069",
        "_uuid": "a73cb3e6b5c2a7bebff7a098ac13b4ad6f5f1e30",
        "trusted": false
      },
      "cell_type": "code",
      "source": "df_train1['Hillshade_Noon'] = np.square(df_train1['Hillshade_Noon'])",
      "execution_count": null,
      "outputs": []
    },
    {
      "metadata": {
        "_cell_guid": "485b404d-0125-ae2b-d153-fba6a3da6bde",
        "_uuid": "388d4832d3232926e125a173d27dca0711c2b218",
        "trusted": false
      },
      "cell_type": "code",
      "source": "# Plot again after square transformation\nfig = plt.figure(figsize=(8,6))\nsns.distplot(df_train1['Hillshade_Noon'],fit=stats.norm)\nfig = plt.figure(figsize=(8,6))\nres = stats.probplot(df_train1['Hillshade_Noon'],plot=plt)",
      "execution_count": null,
      "outputs": []
    },
    {
      "metadata": {
        "_cell_guid": "fca75590-3b7b-c1a7-0c1c-07a2be5350c3",
        "_uuid": "4a102ffe4d003799949db6452b47fb925cb92b28",
        "trusted": false
      },
      "cell_type": "code",
      "source": "# Horizontal_Distance_To_Fire_Points\nplt.figure(figsize=(8,6))\nsns.distplot(df_train1['Horizontal_Distance_To_Fire_Points'], fit=stats.norm)\nplt.figure(figsize=(8,6))\nres = stats.probplot(df_train1['Horizontal_Distance_To_Fire_Points'],plot=plt)",
      "execution_count": null,
      "outputs": []
    },
    {
      "metadata": {
        "_cell_guid": "614cf59f-6078-0d24-e7dd-8c72db934783",
        "_uuid": "53cd3601767a12d985e3153a5004fb1e9d29791a"
      },
      "cell_type": "markdown",
      "source": "Shows positive skewness"
    },
    {
      "metadata": {
        "_cell_guid": "e2619a35-70c3-58e8-797f-81a22e92556b",
        "_uuid": "9495b0e00c987e4fa532f4c1ced196eafa56d310",
        "trusted": false
      },
      "cell_type": "code",
      "source": "df_train1['Horizontal_Distance_To_Fire_Points'] = np.sqrt(df_train1['Horizontal_Distance_To_Fire_Points'])",
      "execution_count": null,
      "outputs": []
    },
    {
      "metadata": {
        "_cell_guid": "c084cea9-59a4-50b2-db72-a77f5db0d129",
        "_uuid": "fdedc3ab61bac22df675146a928c7cf463d94095",
        "trusted": false
      },
      "cell_type": "code",
      "source": "# Plot again after sqrt transformation\nplt.figure(figsize=(8,6))\nsns.distplot(df_train1['Horizontal_Distance_To_Fire_Points'], fit=stats.norm)\nplt.figure(figsize=(8,6))\nres = stats.probplot(df_train1['Horizontal_Distance_To_Fire_Points'],plot=plt)",
      "execution_count": null,
      "outputs": []
    },
    {
      "metadata": {
        "_cell_guid": "ec185ce6-a88c-eacf-4cac-4174e6a9077f",
        "_uuid": "88d4c5455c58341507e3492b53ff0b3f00b4f29b"
      },
      "cell_type": "markdown",
      "source": "Improvement clearly visible"
    },
    {
      "metadata": {
        "_cell_guid": "95bee30f-19ff-7520-c1be-19848ec970a9",
        "_uuid": "97439ae988d3477b36182811937dc9081755bad2",
        "trusted": false
      },
      "cell_type": "code",
      "source": "# To be used in case of algorithms like SVM\ndf_test1[['Horizontal_Distance_To_Hydrology','Horizontal_Distance_To_Fire_Points'\\\n        ,'Horizontal_Distance_To_Roadways']] = np.sqrt(df_test1[['Horizontal_Distance_To_Hydrology',\\\n        'Horizontal_Distance_To_Fire_Points','Horizontal_Distance_To_Roadways']])",
      "execution_count": null,
      "outputs": []
    },
    {
      "metadata": {
        "_cell_guid": "3c2ff032-b55b-1d0d-b2ee-18ae04e6a46e",
        "_uuid": "35b0f70f0d7274827c85e6698f2df468bce47cb8",
        "trusted": false
      },
      "cell_type": "code",
      "source": "# To be used in case of algorithms like SVM\ndf_test1[['Hillshade_9am','Hillshade_Noon']] = np.square(df_test1[['Hillshade_9am','Hillshade_Noon']])",
      "execution_count": null,
      "outputs": []
    },
    {
      "metadata": {
        "_cell_guid": "d416d7ee-5fc2-6dc5-362d-b319c0366cda",
        "_uuid": "6e90d5af9e6c34a64e50e746be21f0556708c19d"
      },
      "cell_type": "markdown",
      "source": "## Train & Test Data"
    },
    {
      "metadata": {
        "_cell_guid": "8ced7b2d-c3a9-7726-0625-8d37563fc480",
        "_uuid": "61c1e2d44704269853546540fc65ea112fee0b35",
        "trusted": false
      },
      "cell_type": "code",
      "source": "from sklearn.preprocessing import StandardScaler",
      "execution_count": null,
      "outputs": []
    },
    {
      "metadata": {
        "_cell_guid": "cff0d233-82c7-b0b9-62f6-8e990095d7c6",
        "_uuid": "16a0e6e83882a32b98267764e2db9a6856ecc352",
        "trusted": false
      },
      "cell_type": "code",
      "source": "# Taking only non-categorical values\nSize = 10\nX_temp = df_train.iloc[:,:Size]\nX_test_temp = df_test.iloc[:,:Size]\nX_temp1 = df_train1.iloc[:,:Size]\nX_test_temp1 = df_test1.iloc[:,:Size]\n\nX_temp1 = StandardScaler().fit_transform(X_temp1)\nX_test_temp1 = StandardScaler().fit_transform(X_test_temp1)",
      "execution_count": null,
      "outputs": []
    },
    {
      "metadata": {
        "_cell_guid": "bf133b40-46b8-f74a-5fd3-8dc9871d7818",
        "_uuid": "b60f14e8630b86630d2a007c11df73f5a924c026",
        "trusted": false
      },
      "cell_type": "code",
      "source": "r,c = df_train.shape\nX_train = np.concatenate((X_temp,df_train.iloc[:,Size:c-1]),axis=1)\nX_train1 = np.concatenate((X_temp1, df_train1.iloc[:,Size:c-1]), axis=1) # to be used for SVM\ny_train = df_train.Cover_Type.values",
      "execution_count": null,
      "outputs": []
    },
    {
      "metadata": {
        "_cell_guid": "132a98c0-d9db-2fbe-cb4e-2c9c564a5234",
        "_uuid": "894d845b410e238e463475f5dd858d6d25eb0277"
      },
      "cell_type": "markdown",
      "source": "## ML algorithms"
    },
    {
      "metadata": {
        "_cell_guid": "c05900bd-a46a-9651-bd96-50ac574cd90f",
        "_uuid": "e9c4451f3e803860ccc739d4463b26383fbee419"
      },
      "cell_type": "markdown",
      "source": "## Support vector Machines"
    },
    {
      "metadata": {
        "_cell_guid": "aa353025-fe67-1119-02e9-cc2ee7c50e9a",
        "_uuid": "17078676422ed52669fa774208bab15cc796f6a5",
        "trusted": false
      },
      "cell_type": "code",
      "source": "from sklearn import svm\nfrom sklearn.model_selection import train_test_split\nfrom sklearn.grid_search import GridSearchCV, RandomizedSearchCV",
      "execution_count": null,
      "outputs": []
    },
    {
      "metadata": {
        "_cell_guid": "44f97fe6-efde-26eb-a55f-a867fbf85ea7",
        "_uuid": "7276306f1023a6ab12b3982b1a3f38bbbae17c26",
        "trusted": false
      },
      "cell_type": "code",
      "source": "# Setting parameters\nx_data, x_test_data, y_data, y_test_data = train_test_split(X_train1,y_train,test_size=0.2, random_state=123)\nsvm_para = [{'kernel':['rbf'],'C': [1,10,100,100]}]",
      "execution_count": null,
      "outputs": []
    },
    {
      "metadata": {
        "_cell_guid": "229627ef-6073-97ca-dfd3-6cbacb86a8ed",
        "_uuid": "58635d6447ef7899e3028a1b427d88a3770217e6"
      },
      "cell_type": "markdown",
      "source": "'rbf' or radial basis function is the Gaussian kernel"
    },
    {
      "metadata": {
        "_cell_guid": "91c82eb3-26ee-de86-1bdc-973ebbc2b675",
        "_uuid": "208c99835fc84e27d2a7869c87cd2523bf93819f",
        "trusted": false
      },
      "cell_type": "code",
      "source": "#classifier = GridSearchCV(svm.SVC(),svm_para,cv=3,verbose=2)\n#classifier.fit(x_data,y_data)\n#classifier.best_params_\n#classifier.grid_scores_",
      "execution_count": null,
      "outputs": []
    },
    {
      "metadata": {
        "_cell_guid": "e71ede37-eaa6-e420-171b-14f8399b2c23",
        "_uuid": "f9a50c17ddf469ee453c1ab31b95d159476452f2",
        "trusted": false
      },
      "cell_type": "code",
      "source": "# Parameters optimized using the code in above cell\nC_opt = 10 # reasonable option\nclf = svm.SVC(C=C_opt,kernel='rbf')\nclf.fit(X_train1,y_train)",
      "execution_count": null,
      "outputs": []
    },
    {
      "metadata": {
        "_cell_guid": "001c4e60-b30e-2482-079e-dc014ffea4d8",
        "_uuid": "1d2bf2b0944cfd31c865c18a4b0dfa0566687395",
        "trusted": false
      },
      "cell_type": "code",
      "source": "clf.score(X_train1,y_train)",
      "execution_count": null,
      "outputs": []
    },
    {
      "metadata": {
        "_cell_guid": "c0ea8815-6588-4553-c41c-9d98bedc8767",
        "_uuid": "5bfb458f8eac9b760d6e2496b4ea7c8f79d28fc5",
        "trusted": false
      },
      "cell_type": "code",
      "source": "# y_pred = clf.predict(X_test1)",
      "execution_count": null,
      "outputs": []
    },
    {
      "metadata": {
        "_cell_guid": "18532a60-a05f-d28f-5f91-cca3a9498ce0",
        "_uuid": "df272c00809526a28d1f370e9bfe31a25f86be9d"
      },
      "cell_type": "markdown",
      "source": "## ExtraTreesClassifier"
    },
    {
      "metadata": {
        "_cell_guid": "2209f0a7-d506-5c11-811d-2ed7ecd0b402",
        "_uuid": "9c98ef1f9cfa8050232b48f4c347ae68a8741609",
        "trusted": false
      },
      "cell_type": "code",
      "source": "from sklearn.ensemble import ExtraTreesClassifier\nfrom sklearn.metrics import classification_report\n\n# setting parameters\nx_data, x_test_data, y_data, y_test_data = train_test_split(X_train,y_train,test_size= 0.3, random_state=0)\netc_para = [{'n_estimators':[20,30,100], 'max_depth':[5,10,15], 'max_features':[0.1,0.2,0.3]}] \n# Default number of features is sqrt(n)\n# Default number of min_samples_leaf is 1",
      "execution_count": null,
      "outputs": []
    },
    {
      "metadata": {
        "_cell_guid": "4269f6ca-b5af-2b93-ddb4-060385ad4138",
        "_uuid": "98ae7a395fec2aa26bc17f55865056cd394f2cc5",
        "trusted": false
      },
      "cell_type": "code",
      "source": "ETC = GridSearchCV(ExtraTreesClassifier(),param_grid=etc_para, cv=10, n_jobs=-1)\nETC.fit(x_data, y_data)\nETC.best_params_\nETC.grid_scores_",
      "execution_count": null,
      "outputs": []
    },
    {
      "metadata": {
        "_cell_guid": "ea09c6af-76de-373c-81f9-dd6b118dbfcd",
        "_uuid": "a25465eaef731d185d74bf5c92efad789961699a",
        "trusted": false
      },
      "cell_type": "code",
      "source": "print ('Best accuracy obtained: {}'.format(ETC.best_score_))\nprint ('Parameters:')\nfor key, value in ETC.best_params_.items():\n    print('\\t{}:{}'.format(key,value))",
      "execution_count": null,
      "outputs": []
    },
    {
      "metadata": {
        "_cell_guid": "60a38979-e138-1dd1-4017-c9e467ffed58",
        "_uuid": "9e49a17b61db0cb1d3990891a932bd1b0419c08f",
        "trusted": false
      },
      "cell_type": "code",
      "source": "# Classification Report\nY_pred = ETC.predict(x_test_data)\ntarget = ['class1', 'class2','class3','class4','class5','class6','class7' ]\nprint (classification_report(y_test_data, Y_pred, target_names=target))",
      "execution_count": null,
      "outputs": []
    },
    {
      "metadata": {
        "_cell_guid": "4f58bc5b-f645-1669-8842-3e52ce15d736",
        "_uuid": "5e091cf9db715079dec53d31070693e32b749319"
      },
      "cell_type": "markdown",
      "source": "It shows Cover_Type 1 and 2 are difficult to predict"
    },
    {
      "metadata": {
        "_cell_guid": "e2b41fc8-b396-884e-3f24-6a90fc76e22b",
        "_uuid": "b4e3aaa0dde3494f404f4a91fce65be89229cff2"
      },
      "cell_type": "markdown",
      "source": "## Learning Curve\nExtraTreesClassifier"
    },
    {
      "metadata": {
        "_cell_guid": "9e31f199-c553-45fb-dd5e-bf6c874b8454",
        "_uuid": "8cee547a03749d52f108a7c9e26805dd13b09922",
        "trusted": false
      },
      "cell_type": "code",
      "source": "from sklearn.model_selection import learning_curve\nfrom sklearn.model_selection import ShuffleSplit\ndef plot_learning_curve(model,title, X, y,n_jobs = 1, ylim = None, cv = None,train_sizes = np.linspace(0.1, 1, 5)):\n    \n    # Figrue parameters\n    plt.figure(figsize=(10,8))\n    plt.title(title)\n    if ylim is not None:\n        plt.ylim(*ylim)\n    plt.xlabel('Training Examples')\n    plt.ylabel('Score')\n    \n    train_sizes, train_score, test_score = learning_curve(model, X, y, cv = cv, n_jobs=n_jobs, train_sizes=train_sizes)\n    \n    # Calculate mean and std\n    train_score_mean = np.mean(train_score, axis=1)\n    train_score_std = np.std(train_score, axis=1)\n    test_score_mean = np.mean(test_score, axis=1)\n    test_score_std = np.std(test_score, axis=1)\n    \n    plt.grid()\n    plt.fill_between(train_sizes, train_score_mean - train_score_std, train_score_mean + train_score_std,\\\n                    alpha = 0.1, color = 'r')\n    plt.fill_between(train_sizes, test_score_mean - test_score_std, test_score_mean + test_score_std,\\\n                    alpha = 0.1, color = 'g')\n    \n    plt.plot(train_sizes, train_score_mean, 'o-', color=\"r\", label=\"Training score\")\n    plt.plot(train_sizes, test_score_mean, 'o-', color=\"g\", label=\"Cross-validation score\")\n    \n    plt.legend(loc = \"best\")\n    return plt",
      "execution_count": null,
      "outputs": []
    },
    {
      "metadata": {
        "_cell_guid": "2a7eeaa7-9b13-757a-22bb-07931f90cbd0",
        "_uuid": "6dce089300fac861196ef1aaece285e3543436ad",
        "trusted": false
      },
      "cell_type": "code",
      "source": "# 'max_features': 0.3, 'n_estimators': 100, 'max_depth': 15, 'min_samples_leaf: 1'\netc = ExtraTreesClassifier(bootstrap=True, oob_score=True, n_estimators=100, max_depth=10, max_features=0.3, \\\n                           min_samples_leaf=1)\n\netc.fit(X_train, y_train)\n# yy_pred = etc.predict(X_test)\netc.score(X_train, y_train)",
      "execution_count": null,
      "outputs": []
    },
    {
      "metadata": {
        "_cell_guid": "2720362d-885a-ec26-2a99-ec5a388298a8",
        "_uuid": "faa5460ca5e123b4d7cfe43c0b68e007b16781a4",
        "trusted": false
      },
      "cell_type": "code",
      "source": "# Plotting learning curve\ntitle = 'Learning Curve (ExtraTreeClassifier)'\n# cross validation with 50 iterations to have a smoother curve\ncv = ShuffleSplit(n_splits=50, test_size=0.2, random_state=0)\nmodel = etc\nplot_learning_curve(model,title,X_train, y_train, n_jobs=-1,ylim=None,cv=cv)\nplt.show()",
      "execution_count": null,
      "outputs": []
    },
    {
      "metadata": {
        "_cell_guid": "54ccbdf1-65c9-73d2-be03-2a1514e7d66d",
        "_uuid": "996682c396b5686d45541896d02b46f20cfda3e5"
      },
      "cell_type": "markdown",
      "source": "##PART II\n<https://www.kaggle.com/nitin007/forest-cover-type-prediction/forest-cover-type-prediction-complete-part-ii/> "
    }
  ],
  "metadata": {
    "_change_revision": 0,
    "_is_fork": false,
    "kernelspec": {
      "display_name": "Python 3",
      "language": "python",
      "name": "python3"
    },
    "language_info": {
      "name": "python",
      "version": "3.6.6",
      "mimetype": "text/x-python",
      "codemirror_mode": {
        "name": "ipython",
        "version": 3
      },
      "pygments_lexer": "ipython3",
      "nbconvert_exporter": "python",
      "file_extension": ".py"
    }
  },
  "nbformat": 4,
  "nbformat_minor": 1
}