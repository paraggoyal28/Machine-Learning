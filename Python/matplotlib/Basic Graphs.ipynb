{
 "cells": [
  {
   "cell_type": "code",
   "execution_count": null,
   "metadata": {},
   "outputs": [],
   "source": [
    "import matplotlib.pyplot as plt"
   ]
  },
  {
   "cell_type": "code",
   "execution_count": null,
   "metadata": {},
   "outputs": [],
   "source": [
    "x = [1,2,6]\n",
    "y = [5,9,3]\n",
    "x2 = [4,8,6]\n",
    "y2 = [36,7,4]\n",
    "\n",
    "plt.plot(x,y, label=\"first\")\n",
    "plt.plot(x2, y2, label=\"second\") # label to give seoarate ame in graph\n",
    "\n",
    "plt.xlabel('X')\n",
    "plt.ylabel('Y')\n",
    "plt.legend()  # to combine 2 graph\n",
    "plt.title(\"Basic \\n Graph\")\n",
    "\n",
    "plt.show()\n"
   ]
  },
  {
   "cell_type": "code",
   "execution_count": null,
   "metadata": {},
   "outputs": [],
   "source": [
    "x = [1,2,6,10]\n",
    "y = [5,9,3,12]\n",
    "x2 = [4,8,6,5,7,10,12]\n",
    "y2 = [36,7,4,2,6,12,11]\n",
    "\n",
    "plt.bar(x, y, label=\"bar1\", color='r')\n",
    "plt.bar(x2, y2, label=\"bar2\", color='b')\n",
    "\n",
    "plt.xlabel('X')\n",
    "plt.ylabel('Y')\n",
    "plt.legend()  # to combine 2 graph\n",
    "plt.title(\"Basic \\n Graph\")\n",
    "plt.show()"
   ]
  },
  {
   "cell_type": "code",
   "execution_count": null,
   "metadata": {},
   "outputs": [],
   "source": [
    "population_ages = [1,102,104,102,50,74,15,84,23,15,12,4,85,74,23,65,12,14,21,47,56,32.5,38,95,72,41,85,36,95,42,18,37]\n",
    "ids = [x for x in range(len(population_ages))]\n",
    "plt.bar(ids, population_ages)\n",
    "\n",
    "plt.xlabel('IDS')\n",
    "plt.ylabel('Ages')\n",
    "plt.show()"
   ]
  },
  {
   "cell_type": "code",
   "execution_count": null,
   "metadata": {},
   "outputs": [],
   "source": [
    "population_ages = [1,102,104,102,50,74,15,84,23,15,12,4,85,74,23,65,12,14,21,47,56,32.5,38,95,72,41,85,36,95,42,18,37]\n",
    "bins = [0,10,20,30,40,50,60,70,80,90,100,110]\n",
    "\n",
    "plt.hist(population_ages, bins, histtype='bar', rwidth=0.8)\n",
    "\n",
    "plt.xlabel('Ages')\n",
    "plt.ylabel('Counts')\n",
    "plt.show()\n"
   ]
  },
  {
   "cell_type": "code",
   "execution_count": null,
   "metadata": {},
   "outputs": [],
   "source": [
    "x = [1,2,6,10]\n",
    "y = [5,9,3,12]\n",
    "x2 = [4,8,6,5,7,10,12]\n",
    "y2 = [36,7,4,2,6,12,11]\n",
    "\n",
    "plt.scatter(x, y, label=\"scatter1\", color='r', marker=\"o\", s=100)\n",
    "plt.scatter(x2, y2, label=\"scatter2\", color='b', marker='*', s=100)\n",
    "\n",
    "plt.xlabel('X')\n",
    "plt.ylabel('Y')\n",
    "plt.legend()  # to combine 2 graph\n",
    "plt.title(\"Basic \\n Graph\")\n",
    "plt.show()"
   ]
  },
  {
   "cell_type": "code",
   "execution_count": null,
   "metadata": {},
   "outputs": [],
   "source": [
    "days = [1,2,3,4,5]\n",
    "\n",
    "sleeping = [5,7,8,2,10]\n",
    "eating = [4,5,7,2,21]\n",
    "working = [8,7,1,2,8]\n",
    "playing = [4,2,7,6,3]\n",
    "\n",
    "\n",
    "plt.plot([], [], color='m', label='sleeping', linewidth=5)\n",
    "plt.plot([], [], color='b', label='eating', linewidth=5)\n",
    "plt.plot([], [], color='c', label='working', linewidth=5)\n",
    "plt.plot([], [], color='k', label='playing', linewidth=5)\n",
    "\n",
    "plt.stackplot( days, sleeping, eating, working, playing, colors=['m','b', 'c', 'k'])\n",
    "\n",
    "plt.legend()\n",
    "\n",
    "plt.xlabel('Days')\n",
    "plt.ylabel('Total hours')\n",
    "plt.title(\"Basic \\n Graph\")\n",
    "\n",
    "plt.show()\n"
   ]
  },
  {
   "cell_type": "code",
   "execution_count": null,
   "metadata": {},
   "outputs": [],
   "source": [
    "slices = [12,15,17,12,25,45,74]\n",
    "activity = ['sleeping', 'working', 'eating', 'playing', 'running', 'k','a']\n",
    "col = ['c','m','k','b','r','g','y']\n",
    "\n",
    "plt.pie(slices, labels=activity, colors=col ,\n",
    "        startangle=90,                          # startangle => start vertically \n",
    "        shadow=True,                            # light shadow\n",
    "        explode=(0.1,0,0.2,0,0,0,.1),            # explode => to slice out\n",
    "       autopct='%1.1f%%')                    # add % in chart\n",
    "                                    \n",
    "                                   \n",
    "plt.show()"
   ]
  },
  {
   "cell_type": "code",
   "execution_count": null,
   "metadata": {},
   "outputs": [],
   "source": []
  }
 ],
 "metadata": {
  "kernelspec": {
   "display_name": "Python 3",
   "language": "python",
   "name": "python3"
  },
  "language_info": {
   "codemirror_mode": {
    "name": "ipython",
    "version": 3
   },
   "file_extension": ".py",
   "mimetype": "text/x-python",
   "name": "python",
   "nbconvert_exporter": "python",
   "pygments_lexer": "ipython3",
   "version": "3.6.5"
  }
 },
 "nbformat": 4,
 "nbformat_minor": 2
}
