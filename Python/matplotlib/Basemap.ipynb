{
 "cells": [
  {
   "cell_type": "code",
   "execution_count": 1,
   "metadata": {},
   "outputs": [],
   "source": [
    "import matplotlib.pyplot as plt\n",
    "from mpl_toolkits.basemap import Basemap"
   ]
  },
  {
   "cell_type": "code",
   "execution_count": null,
   "metadata": {},
   "outputs": [],
   "source": [
    "import matplotlib.pyplot as plt\n",
    "from mpl_toolkits.basemap import Basemap\n",
    "m = Basemap(projection='mill',\n",
    "           llcrnrlat = -90,  # south\n",
    "           llcrnrlon = -180,   # west\n",
    "           urcrnrlat = 90,    # north\n",
    "           urcrnrlon = 180,    #east\n",
    "           resolution='c')\n",
    "\n",
    "m.drawcoastlines()\n",
    "m.drawcountries(linewidth=1, color='r')\n",
    "m.drawstates(linewidth=1, color='b')\n",
    "# m.drawcounties( color='y')\n",
    "# m.fillcontinents() # to fill color in continent u can pass color also\n",
    "m.etopo()\n",
    "\n",
    "plt.title('World')\n",
    "plt.show()"
   ]
  },
  {
   "cell_type": "code",
   "execution_count": null,
   "metadata": {},
   "outputs": [],
   "source": []
  },
  {
   "cell_type": "code",
   "execution_count": null,
   "metadata": {},
   "outputs": [],
   "source": []
  }
 ],
 "metadata": {
  "kernelspec": {
   "display_name": "Python 3",
   "language": "python",
   "name": "python3"
  },
  "language_info": {
   "codemirror_mode": {
    "name": "ipython",
    "version": 3
   },
   "file_extension": ".py",
   "mimetype": "text/x-python",
   "name": "python",
   "nbconvert_exporter": "python",
   "pygments_lexer": "ipython3",
   "version": "3.6.5"
  }
 },
 "nbformat": 4,
 "nbformat_minor": 2
}
