{
 "cells": [
  {
   "cell_type": "code",
   "execution_count": 35,
   "metadata": {},
   "outputs": [],
   "source": [
    "import tensorflow as tf\n",
    "import numpy as np\n",
    "import matplotlib.pyplot as plt\n",
    "from __future__ import print_function"
   ]
  },
  {
   "cell_type": "code",
   "execution_count": 36,
   "metadata": {},
   "outputs": [],
   "source": [
    "def add_layer(inputs, in_size, out_size, activation_function=None):\n",
    "    with tf.name_scope(\"layers\"):\n",
    "        with tf.name_scope(\"weight\"):\n",
    "            weight = tf.Variable(tf.random_normal([in_size, out_size]))\n",
    "        with tf.name_scope(\"biases\"):\n",
    "            biases = tf.Variable(tf.zeros([1,out_size])+0.1)\n",
    "        with tf.name_scope(\"input\"):\n",
    "            Wx_plus_b = tf.matmul(inputs, weight) + biases;\n",
    "        if activation_function == None:\n",
    "            output = Wx_plus_b\n",
    "        else:\n",
    "            output = activation_function(Wx_plus_b)\n",
    "        return(output)\n",
    "    "
   ]
  },
  {
   "cell_type": "code",
   "execution_count": 37,
   "metadata": {},
   "outputs": [],
   "source": [
    "# Create some data\n",
    "\n",
    "x_data = np.linspace(-1,1,300)[:,np.newaxis]\n",
    "noise = np.random.normal(0,0.05, x_data.shape).astype(np.float32)\n",
    "y_data = np.square(x_data) -0.5 + noise\n",
    "\n",
    "# plt.scatter(x_data, y_data)\n",
    "# plt.show()"
   ]
  },
  {
   "cell_type": "code",
   "execution_count": 38,
   "metadata": {},
   "outputs": [],
   "source": [
    "#define placeholder to input to network\n",
    "with tf.name_scope(\"inputs\"):\n",
    "    xs = tf.placeholder(tf.float32,[None,1], name='x_inputs')     # None for no of sample as not defined and 1 for  \n",
    "                                     #number of feature in x_data as there is only 1 (300) during creation\n",
    "    ys = tf.placeholder(tf.float32,[None,1], name='y_inputs')\n"
   ]
  },
  {
   "cell_type": "code",
   "execution_count": 39,
   "metadata": {},
   "outputs": [],
   "source": [
    "#add hidden layer\n",
    "layer1 = add_layer(xs, 1, 10, activation_function=tf.nn.relu)\n",
    "prediction = add_layer(layer1, 10, 1, activation_function=None)\n",
    "\n",
    "#error\n",
    "with tf.name_scope(\"loss\"):\n",
    "    loss = tf.reduce_mean(tf.reduce_sum(tf.square(ys-prediction), reduction_indices=[1]))\n",
    "with tf.name_scope(\"train_step\"):\n",
    "    train_step = tf.train.GradientDescentOptimizer(0.1).minimize(loss)\n"
   ]
  },
  {
   "cell_type": "code",
   "execution_count": 54,
   "metadata": {},
   "outputs": [],
   "source": [
    "session = tf.Session()\n",
    "session.run(tf.global_variables_initializer())\n"
   ]
  },
  {
   "cell_type": "code",
   "execution_count": 55,
   "metadata": {},
   "outputs": [],
   "source": [
    "writer = tf.summary.FileWriter(\"logs/\", graph=session.graph) # tensor board summary run\n",
    "                                                            # tensorboard --logdir=\"<path_directory>\""
   ]
  },
  {
   "cell_type": "code",
   "execution_count": 49,
   "metadata": {},
   "outputs": [
    {
     "data": {
      "image/png": "[encoded data removed]",
      "text/plain": [
       "<Figure size 432x288 with 1 Axes>"
      ]
     },
     "metadata": {},
     "output_type": "display_data"
    }
   ],
   "source": [
    "#plot real data\n",
    "\n",
    "fig = plt.figure()\n",
    "ax = fig.add_subplot(1,1,1)\n",
    "ax.scatter(x_data, y_data)\n",
    "plt.ion()\n",
    "plt.show()\n",
    " # to non block the plotting process"
   ]
  },
  {
   "cell_type": "code",
   "execution_count": 50,
   "metadata": {},
   "outputs": [
    {
     "name": "stdout",
     "output_type": "stream",
     "text": [
      "0.09513437\n",
      "0.008216713\n",
      "0.0067233173\n",
      "0.005734448\n",
      "0.0050876536\n",
      "0.004657764\n",
      "0.0043527586\n",
      "0.004146676\n",
      "0.004002437\n",
      "0.0038670646\n",
      "0.0037573949\n",
      "0.0036518236\n",
      "0.0035687871\n",
      "0.0035140642\n",
      "0.0034677943\n",
      "0.00342225\n",
      "0.0033795435\n",
      "0.0033386822\n",
      "0.0032978717\n",
      "0.0032579906\n"
     ]
    }
   ],
   "source": [
    "for i in range(1000):\n",
    "    session.run(train_step, feed_dict={xs:x_data, ys:y_data})\n",
    "    if i%50==0:\n",
    "        print(session.run(loss, feed_dict={xs:x_data, ys:y_data}))\n",
    "\n",
    "# for i in range(100):\n",
    "#     session.run(train_step, feed_dict={xs:x_data, ys:y_data})\n",
    "#     if i%50==0:\n",
    "#         try:                            #to remove lines in graph on each iteration\n",
    "#             ax.lines.remove(lines[0])\n",
    "#         except Exception:\n",
    "#             pass\n",
    "        \n",
    "#         prediction_value = session.run(prediction, feed_dict={xs:x_data})\n",
    "        \n",
    "#         lines = ax.plot(x_data, prediction_value, 'r-', linewidth=5)\n",
    "#         plt.pause(0.1)"
   ]
  },
  {
   "cell_type": "code",
   "execution_count": null,
   "metadata": {},
   "outputs": [],
   "source": []
  }
 ],
 "metadata": {
  "kernelspec": {
   "display_name": "Python 3",
   "language": "python",
   "name": "python3"
  },
  "language_info": {
   "codemirror_mode": {
    "name": "ipython",
    "version": 3
   },
   "file_extension": ".py",
   "mimetype": "text/x-python",
   "name": "python",
   "nbconvert_exporter": "python",
   "pygments_lexer": "ipython3",
   "version": "3.6.5"
  }
 },
 "nbformat": 4,
 "nbformat_minor": 2
}
